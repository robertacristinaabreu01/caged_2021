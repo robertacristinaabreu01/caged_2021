{
  "nbformat": 4,
  "nbformat_minor": 0,
  "metadata": {
    "colab": {
      "name": "2020Caged.ipynb",
      "provenance": [],
      "mount_file_id": "1KOHWksG6gzhixVwOtn0imU_M7KmK8sWY",
      "authorship_tag": "ABX9TyMt8bH8mpNtB4wIk9wgpjor",
      "include_colab_link": true
    },
    "kernelspec": {
      "name": "python3",
      "display_name": "Python 3"
    },
    "language_info": {
      "name": "python"
    }
  },
  "cells": [
    {
      "cell_type": "markdown",
      "metadata": {
        "id": "view-in-github",
        "colab_type": "text"
      },
      "source": [
        "<a href=\"https://colab.research.google.com/github/robertacristinaabreu01/caged_2021/blob/main/2020Caged.ipynb\" target=\"_parent\"><img src=\"https://colab.research.google.com/assets/colab-badge.svg\" alt=\"Open In Colab\"/></a>"
      ]
    },
    {
      "cell_type": "markdown",
      "metadata": {
        "id": "ahpZqJVx9oTR"
      },
      "source": [
        " – Qual foi o índice de pessoas empregadas e desempregadas em certo período, categorizadas por: - Gênero - Classe social - Faixa Etária - Nível de escolaridade - Setores (Agronegócio, Indústria, Comércio, etc...)\n",
        "\n",
        "2 – Quais foram as estatísticas de consumo/gastos após o aumento ou diminuição do: - Emprego - Desemprego\n",
        "\n",
        "3 - Quero saber a quantidade de admissões/demissões por gênero no período da pandemia.\n",
        "\n",
        "4 - Quero saber a quantidade de demissões por tipo, tipo movimentação / demissão. - Diferença salarial entre homens e mulheres admitidos; - Diferença salarial entre homens e mulheres demitidos; - Média salarial por raça/cor;\n",
        "\n",
        "5 - Quero poder visualizar as causas de demissão formalizadas pelos empregadores distribuídas por sexo, raça/cor e faixa etária;\n",
        "\n",
        "arquivos disponíveis em: https://drive.google.com/drive/folders/1BFbQ6R5H8aizGgHoT_ygMMoo2zPcUqrH?usp=sharing"
      ]
    },
    {
      "cell_type": "code",
      "metadata": {
        "id": "Xlvtp0NkHabn"
      },
      "source": [
        "import pandas as pd"
      ],
      "execution_count": 10,
      "outputs": []
    },
    {
      "cell_type": "code",
      "metadata": {
        "id": "rWZ-rXzOHqBv"
      },
      "source": [
        "dados201 = pd.read_csv(\"/content/drive/MyDrive/Colab Notebooks/caged_data/CAGEDMOV202001.txt\", sep=';', usecols=[8, 10, 13, 16])"
      ],
      "execution_count": 24,
      "outputs": []
    },
    {
      "cell_type": "code",
      "metadata": {
        "id": "EGn8IPebIkMA"
      },
      "source": [
        "dados202 = pd.read_csv(\"/content/drive/MyDrive/Colab Notebooks/caged_data/CAGEDMOV202002.txt\" , sep=';', usecols=[8, 10, 13, 16])"
      ],
      "execution_count": 25,
      "outputs": []
    },
    {
      "cell_type": "code",
      "metadata": {
        "id": "MjbbQkbfIktY"
      },
      "source": [
        "dados203 = pd.read_csv(\"/content/drive/MyDrive/Colab Notebooks/caged_data/CAGEDMOV202003.txt\", sep=';', usecols=[8, 10, 13, 16])"
      ],
      "execution_count": 28,
      "outputs": []
    },
    {
      "cell_type": "code",
      "metadata": {
        "id": "1E5uR9pIIk4m"
      },
      "source": [
        "dados204 = pd.read_csv(\"/content/drive/MyDrive/Colab Notebooks/caged_data/CAGEDMOV202004.txt\", sep=';', usecols=[8, 10, 13, 16])"
      ],
      "execution_count": 27,
      "outputs": []
    },
    {
      "cell_type": "code",
      "metadata": {
        "id": "ZyCXoN94IlBz"
      },
      "source": [
        "dados205 = pd.read_csv(\"/content/drive/MyDrive/Colab Notebooks/caged_data/CAGEDMOV202005.txt\", sep=';', usecols=[8, 10, 13, 16])"
      ],
      "execution_count": 30,
      "outputs": []
    },
    {
      "cell_type": "code",
      "metadata": {
        "id": "IWaDgic2I5_i"
      },
      "source": [
        "dados206 = pd.read_csv(\"/content/drive/MyDrive/Colab Notebooks/caged_data/CAGEDMOV202006.txt\" , sep=';', usecols=[8, 10, 13, 16])"
      ],
      "execution_count": 31,
      "outputs": []
    },
    {
      "cell_type": "code",
      "metadata": {
        "id": "qcSWVMiEJuqQ"
      },
      "source": [
        "dados207 = pd.read_csv(\"/content/drive/MyDrive/Colab Notebooks/caged_data/CAGEDMOV202007.txt\", sep=';', usecols=[8, 10, 13, 16])"
      ],
      "execution_count": 32,
      "outputs": []
    },
    {
      "cell_type": "code",
      "metadata": {
        "id": "3VerZ541Ju0r"
      },
      "source": [
        "dados208 = pd.read_csv(\"/content/drive/MyDrive/Colab Notebooks/caged_data/CAGEDMOV202008.txt\", sep=';', usecols=[8, 10, 13, 16])"
      ],
      "execution_count": 33,
      "outputs": []
    },
    {
      "cell_type": "code",
      "metadata": {
        "id": "0bqGwyEkJu-N"
      },
      "source": [
        "dados209 = pd.read_csv(\"/content/drive/MyDrive/Colab Notebooks/caged_data/CAGEDMOV202009.txt\", sep=';', usecols=[8, 10, 13, 16])"
      ],
      "execution_count": 34,
      "outputs": []
    },
    {
      "cell_type": "code",
      "metadata": {
        "id": "gr0JInaXJvFq"
      },
      "source": [
        "dados2010 = pd.read_csv(\"/content/drive/MyDrive/Colab Notebooks/caged_data/CAGEDMOV202010.txt\", sep=';', usecols=[8, 10, 13, 16])"
      ],
      "execution_count": 35,
      "outputs": []
    },
    {
      "cell_type": "code",
      "metadata": {
        "id": "anBOpshZJvOe"
      },
      "source": [
        "dados2011 = pd.read_csv(\"/content/drive/MyDrive/Colab Notebooks/caged_data/CAGEDMOV202011.txt\", sep=';', usecols=[8, 10, 13, 16])"
      ],
      "execution_count": 36,
      "outputs": []
    },
    {
      "cell_type": "code",
      "metadata": {
        "id": "rT6tAr0LKD7G"
      },
      "source": [
        "dados2012 = pd.read_csv(\"/content/drive/MyDrive/Colab Notebooks/caged_data/CAGEDMOV202012.txt\", sep=';', usecols=[8, 10, 13, 16])"
      ],
      "execution_count": 37,
      "outputs": []
    },
    {
      "cell_type": "code",
      "metadata": {
        "colab": {
          "base_uri": "https://localhost:8080/"
        },
        "id": "bw5Dqd09MPoj",
        "outputId": "bf77e4c8-11e0-41c3-e070-03dfa77b248e"
      },
      "source": [
        "dados201.shape, dados202.shape, dados203.shape, dados204.shape, dados205.shape, dados206.shape, dados207.shape, dados208.shape, dados209.shape, dados2010.shape, dados2011.shape,dados2012.shape"
      ],
      "execution_count": 150,
      "outputs": [
        {
          "output_type": "execute_result",
          "data": {
            "text/plain": [
              "((2890763, 4),\n",
              " (2985661, 4),\n",
              " (3172722, 4),\n",
              " (2251887, 4),\n",
              " (1867253, 4),\n",
              " (1914231, 4),\n",
              " (2159751, 4),\n",
              " (2335252, 4),\n",
              " (2544644, 4),\n",
              " (2789381, 4),\n",
              " (2731741, 4),\n",
              " (2546466, 4))"
            ]
          },
          "metadata": {
            "tags": []
          },
          "execution_count": 150
        }
      ]
    },
    {
      "cell_type": "code",
      "metadata": {
        "colab": {
          "base_uri": "https://localhost:8080/"
        },
        "id": "7hM8qPz5yOzh",
        "outputId": "b39f2f68-cca9-4549-8e1d-5bf02dbb4fb2"
      },
      "source": [
        "#Checa os tipos:\n",
        "dados201.dtypes"
      ],
      "execution_count": 162,
      "outputs": [
        {
          "output_type": "execute_result",
          "data": {
            "text/plain": [
              "categoria             int64\n",
              "idade               float64\n",
              "sexo                  int64\n",
              "tipomovimentação      int64\n",
              "dtype: object"
            ]
          },
          "metadata": {
            "tags": []
          },
          "execution_count": 162
        }
      ]
    },
    {
      "cell_type": "code",
      "metadata": {
        "colab": {
          "base_uri": "https://localhost:8080/"
        },
        "id": "f2O78C_ptZtl",
        "outputId": "ce025b14-9b7a-4588-c572-c7b6a36520bf"
      },
      "source": [
        "dados201.values, dados202.values, dados203.values, dados204.values, dados205.values, dados206.values, dados207.values, dados208.values, dados209.values, dados2010.values, dados2011.values,dados2012.values"
      ],
      "execution_count": 152,
      "outputs": [
        {
          "output_type": "execute_result",
          "data": {
            "text/plain": [
              "(array([[101.,  52.,   1.,  31.],\n",
              "        [101.,  25.,   3.,  20.],\n",
              "        [101.,  55.,   3.,  20.],\n",
              "        ...,\n",
              "        [101.,  38.,   3.,  31.],\n",
              "        [101.,  18.,   3.,  31.],\n",
              "        [101.,  34.,   3.,  20.]]), array([[101.,  35.,   3.,  20.],\n",
              "        [101.,  37.,   1.,  20.],\n",
              "        [101.,  28.,   1.,  90.],\n",
              "        ...,\n",
              "        [101.,  32.,   1.,  31.],\n",
              "        [106.,  34.,   1.,  20.],\n",
              "        [101.,  41.,   3.,  31.]]), array([[101.,  64.,   1.,  31.],\n",
              "        [101.,  52.,   3.,  31.],\n",
              "        [999.,  32.,   3.,  20.],\n",
              "        ...,\n",
              "        [106.,  56.,   1.,  43.],\n",
              "        [101.,  25.,   3.,  31.],\n",
              "        [101.,  57.,   3.,  20.]]), array([[999.,  24.,   3.,  20.],\n",
              "        [101.,  22.,   1.,  31.],\n",
              "        [101.,  19.,   1.,  43.],\n",
              "        ...,\n",
              "        [101.,  36.,   3.,  31.],\n",
              "        [101.,  23.,   3.,  31.],\n",
              "        [101.,  21.,   1.,  31.]]), array([[101.,  65.,   1.,  60.],\n",
              "        [106.,  37.,   3.,  20.],\n",
              "        [101.,  29.,   3.,  20.],\n",
              "        ...,\n",
              "        [101.,  47.,   3.,  31.],\n",
              "        [101.,  44.,   1.,  31.],\n",
              "        [101.,  35.,   1.,  20.]]), array([[101.,  43.,   1.,  31.],\n",
              "        [101.,  37.,   1.,  40.],\n",
              "        [101.,  34.,   1.,  10.],\n",
              "        ...,\n",
              "        [101.,  21.,   1.,  20.],\n",
              "        [103.,  22.,   3.,  43.],\n",
              "        [999.,  30.,   1.,  20.]]), array([[999.,  61.,   3.,  40.],\n",
              "        [101.,  20.,   1.,  31.],\n",
              "        [101.,  42.,   1.,  20.],\n",
              "        ...,\n",
              "        [101.,  47.,   1.,  20.],\n",
              "        [101.,  22.,   3.,  20.],\n",
              "        [101.,  53.,   1.,  31.]]), array([[101.,  32.,   1.,  20.],\n",
              "        [101.,  22.,   1.,  10.],\n",
              "        [101.,  39.,   1.,  20.],\n",
              "        ...,\n",
              "        [101.,  26.,   3.,  20.],\n",
              "        [101.,  21.,   3.,  40.],\n",
              "        [101.,  24.,   3.,  20.]]), array([[101.,  39.,   1.,  31.],\n",
              "        [101.,  37.,   3.,  20.],\n",
              "        [101.,  35.,   1.,  31.],\n",
              "        ...,\n",
              "        [101.,  41.,   3.,  20.],\n",
              "        [101.,  24.,   1.,  10.],\n",
              "        [101.,  32.,   3.,  20.]]), array([[101.,  53.,   1.,  90.],\n",
              "        [101.,  54.,   1.,  20.],\n",
              "        [101.,  44.,   1.,  20.],\n",
              "        ...,\n",
              "        [101.,  53.,   3.,  40.],\n",
              "        [101.,  29.,   1.,  20.],\n",
              "        [999.,  55.,   1.,  31.]]), array([[101.,  32.,   1.,  31.],\n",
              "        [101.,  20.,   1.,  31.],\n",
              "        [101.,  45.,   3.,  20.],\n",
              "        ...,\n",
              "        [106.,  22.,   3.,  20.],\n",
              "        [101.,  46.,   1.,  31.],\n",
              "        [101.,  22.,   1.,  20.]]), array([[101.,  37.,   3.,  20.],\n",
              "        [106.,  23.,   3.,  43.],\n",
              "        [101.,  17.,   3.,  43.],\n",
              "        ...,\n",
              "        [101.,  38.,   1.,  20.],\n",
              "        [101.,  28.,   3.,  20.],\n",
              "        [999.,  31.,   1.,  90.]]))"
            ]
          },
          "metadata": {
            "tags": []
          },
          "execution_count": 152
        }
      ]
    },
    {
      "cell_type": "code",
      "metadata": {
        "colab": {
          "base_uri": "https://localhost:8080/"
        },
        "id": "c8igHJpjtiFe",
        "outputId": "0fe460c1-1c2a-4a2c-e1b5-d9421faceb32"
      },
      "source": [
        "dados201.columns, dados202.columns, dados203.columns, dados204.columns, dados205.columns, dados206.columns, dados207.columns, dados208.columns, dados209.columns, dados2010.columns, dados2011.columns,dados2012.columns"
      ],
      "execution_count": 153,
      "outputs": [
        {
          "output_type": "execute_result",
          "data": {
            "text/plain": [
              "(Index(['categoria', 'idade', 'sexo', 'tipomovimentação'], dtype='object'),\n",
              " Index(['categoria', 'idade', 'sexo', 'tipomovimentação'], dtype='object'),\n",
              " Index(['categoria', 'idade', 'sexo', 'tipomovimentação'], dtype='object'),\n",
              " Index(['categoria', 'idade', 'sexo', 'tipomovimentação'], dtype='object'),\n",
              " Index(['categoria', 'idade', 'sexo', 'tipomovimentação'], dtype='object'),\n",
              " Index(['categoria', 'idade', 'sexo', 'tipomovimentação'], dtype='object'),\n",
              " Index(['categoria', 'idade', 'sexo', 'tipomovimentação'], dtype='object'),\n",
              " Index(['categoria', 'idade', 'sexo', 'tipomovimentação'], dtype='object'),\n",
              " Index(['categoria', 'idade', 'sexo', 'tipomovimentação'], dtype='object'),\n",
              " Index(['categoria', 'idade', 'sexo', 'tipomovimentação'], dtype='object'),\n",
              " Index(['categoria', 'idade', 'sexo', 'tipomovimentação'], dtype='object'),\n",
              " Index(['categoria', 'idade', 'sexo', 'tipomovimentação'], dtype='object'))"
            ]
          },
          "metadata": {
            "tags": []
          },
          "execution_count": 153
        }
      ]
    },
    {
      "cell_type": "code",
      "metadata": {
        "colab": {
          "base_uri": "https://localhost:8080/"
        },
        "id": "tXF_qZ_rtpYz",
        "outputId": "d1f51571-7558-42ea-e30d-f9d4447402d8"
      },
      "source": [
        "dados201.index, dados202.index ,dados203.index, dados204.index, dados205.index, dados206.index, dados207.index, dados208.index, dados209.index, dados2010.index,dados2011.index,dados2012.index"
      ],
      "execution_count": 155,
      "outputs": [
        {
          "output_type": "execute_result",
          "data": {
            "text/plain": [
              "(RangeIndex(start=0, stop=2890763, step=1),\n",
              " RangeIndex(start=0, stop=2985661, step=1),\n",
              " RangeIndex(start=0, stop=3172722, step=1),\n",
              " RangeIndex(start=0, stop=2251887, step=1),\n",
              " RangeIndex(start=0, stop=1867253, step=1),\n",
              " RangeIndex(start=0, stop=1914231, step=1),\n",
              " RangeIndex(start=0, stop=2159751, step=1),\n",
              " RangeIndex(start=0, stop=2335252, step=1),\n",
              " RangeIndex(start=0, stop=2544644, step=1),\n",
              " RangeIndex(start=0, stop=2789381, step=1),\n",
              " RangeIndex(start=0, stop=2731741, step=1),\n",
              " RangeIndex(start=0, stop=2546466, step=1))"
            ]
          },
          "metadata": {
            "tags": []
          },
          "execution_count": 155
        }
      ]
    },
    {
      "cell_type": "code",
      "metadata": {
        "id": "9p7ILaRvJvZh"
      },
      "source": [
        "from datetime import date\n",
        "from datetime import timedelta\n",
        "import matplotlib.pyplot as plt\n",
        "import matplotlib.patches as mpatches\n",
        "import seaborn as sns\n",
        "import numpy as np"
      ],
      "execution_count": 11,
      "outputs": []
    },
    {
      "cell_type": "code",
      "metadata": {
        "colab": {
          "base_uri": "https://localhost:8080/",
          "height": 204
        },
        "id": "0K8HdaHNOYwr",
        "outputId": "68c6f778-bf54-476d-dcdb-6e5b6aa20195"
      },
      "source": [
        "dados201.head(5)"
      ],
      "execution_count": 42,
      "outputs": [
        {
          "output_type": "execute_result",
          "data": {
            "text/html": [
              "<div>\n",
              "<style scoped>\n",
              "    .dataframe tbody tr th:only-of-type {\n",
              "        vertical-align: middle;\n",
              "    }\n",
              "\n",
              "    .dataframe tbody tr th {\n",
              "        vertical-align: top;\n",
              "    }\n",
              "\n",
              "    .dataframe thead th {\n",
              "        text-align: right;\n",
              "    }\n",
              "</style>\n",
              "<table border=\"1\" class=\"dataframe\">\n",
              "  <thead>\n",
              "    <tr style=\"text-align: right;\">\n",
              "      <th></th>\n",
              "      <th>categoria</th>\n",
              "      <th>idade</th>\n",
              "      <th>sexo</th>\n",
              "      <th>tipomovimentação</th>\n",
              "    </tr>\n",
              "  </thead>\n",
              "  <tbody>\n",
              "    <tr>\n",
              "      <th>0</th>\n",
              "      <td>101</td>\n",
              "      <td>52.0</td>\n",
              "      <td>1</td>\n",
              "      <td>31</td>\n",
              "    </tr>\n",
              "    <tr>\n",
              "      <th>1</th>\n",
              "      <td>101</td>\n",
              "      <td>25.0</td>\n",
              "      <td>3</td>\n",
              "      <td>20</td>\n",
              "    </tr>\n",
              "    <tr>\n",
              "      <th>2</th>\n",
              "      <td>101</td>\n",
              "      <td>55.0</td>\n",
              "      <td>3</td>\n",
              "      <td>20</td>\n",
              "    </tr>\n",
              "    <tr>\n",
              "      <th>3</th>\n",
              "      <td>101</td>\n",
              "      <td>52.0</td>\n",
              "      <td>1</td>\n",
              "      <td>10</td>\n",
              "    </tr>\n",
              "    <tr>\n",
              "      <th>4</th>\n",
              "      <td>101</td>\n",
              "      <td>16.0</td>\n",
              "      <td>1</td>\n",
              "      <td>20</td>\n",
              "    </tr>\n",
              "  </tbody>\n",
              "</table>\n",
              "</div>"
            ],
            "text/plain": [
              "   categoria  idade  sexo  tipomovimentação\n",
              "0        101   52.0     1                31\n",
              "1        101   25.0     3                20\n",
              "2        101   55.0     3                20\n",
              "3        101   52.0     1                10\n",
              "4        101   16.0     1                20"
            ]
          },
          "metadata": {
            "tags": []
          },
          "execution_count": 42
        }
      ]
    },
    {
      "cell_type": "markdown",
      "metadata": {
        "id": "9TyEM0iHp5dC"
      },
      "source": [
        "#DESLIGAMENTOS POR TIPO DE MOVIMENTAÇÃO - MÊS/2020"
      ]
    },
    {
      "cell_type": "code",
      "metadata": {
        "colab": {
          "base_uri": "https://localhost:8080/",
          "height": 316
        },
        "id": "3i5UrGVbOkXZ",
        "outputId": "5e3a3593-746d-4dd0-9f63-2f404b024d30"
      },
      "source": [
        "desligamento = dados201.query('tipomovimentação==\"31\" or tipomovimentação==\"32\" or tipomovimentação==\"40\" or tipomovimentação==\"45\" or tipomovimentação==\"50\" or tipomovimentação==\"60\" or tipomovimentação==\"80\" or tipomovimentação==\"90\" or tipomovimentação==\"98\"')\n",
        "\n",
        "desligamento.groupby(['tipomovimentação']).tipomovimentação.count().sort_values()[-9:].plot(kind='bar', color='green',title=\"Demissões por Tipo de Movimentação em Jan/2020\")"
      ],
      "execution_count": 102,
      "outputs": [
        {
          "output_type": "execute_result",
          "data": {
            "text/plain": [
              "<matplotlib.axes._subplots.AxesSubplot at 0x7f3636a0afd0>"
            ]
          },
          "metadata": {
            "tags": []
          },
          "execution_count": 102
        },
        {
          "output_type": "display_data",
          "data": {
            "image/png": "[encoded data removed]",
            "text/plain": [
              "<Figure size 432x288 with 1 Axes>"
            ]
          },
          "metadata": {
            "tags": [],
            "needs_background": "light"
          }
        }
      ]
    },
    {
      "cell_type": "code",
      "metadata": {
        "colab": {
          "base_uri": "https://localhost:8080/",
          "height": 316
        },
        "id": "aBMc4QWXO8Pg",
        "outputId": "928dd413-60cc-4f82-9268-765b3a0e7d12"
      },
      "source": [
        "desligamento = dados202.query('tipomovimentação==\"31\" or tipomovimentação==\"32\" or tipomovimentação==\"40\" or tipomovimentação==\"45\" or tipomovimentação==\"50\" or tipomovimentação==\"60\" or tipomovimentação==\"80\" or tipomovimentação==\"90\" or tipomovimentação==\"98\"')\n",
        "\n",
        "desligamento.groupby(['tipomovimentação']).tipomovimentação.count().sort_values()[-9:].plot(kind='bar',color='yellow', title=\"Demissões por Tipo de Movimentação em Fev/2020\")"
      ],
      "execution_count": 101,
      "outputs": [
        {
          "output_type": "execute_result",
          "data": {
            "text/plain": [
              "<matplotlib.axes._subplots.AxesSubplot at 0x7f3636c0cd90>"
            ]
          },
          "metadata": {
            "tags": []
          },
          "execution_count": 101
        },
        {
          "output_type": "display_data",
          "data": {
            "image/png": "[encoded data removed]",
            "text/plain": [
              "<Figure size 432x288 with 1 Axes>"
            ]
          },
          "metadata": {
            "tags": [],
            "needs_background": "light"
          }
        }
      ]
    },
    {
      "cell_type": "code",
      "metadata": {
        "colab": {
          "base_uri": "https://localhost:8080/",
          "height": 316
        },
        "id": "cd2n545IPDnS",
        "outputId": "0f9429ab-1847-4f42-e3ea-bc0d65970077"
      },
      "source": [
        "desligamento = dados203.query('tipomovimentação==\"31\" or tipomovimentação==\"32\" or tipomovimentação==\"40\" or tipomovimentação==\"45\" or tipomovimentação==\"50\" or tipomovimentação==\"60\" or tipomovimentação==\"80\" or tipomovimentação==\"90\" or tipomovimentação==\"98\"')\n",
        "\n",
        "desligamento.groupby(['tipomovimentação']).tipomovimentação.count().sort_values()[-9:].plot(kind='bar', color='green',title=\"Demissões por Tipo de Movimentação em Mar/2020\")"
      ],
      "execution_count": 100,
      "outputs": [
        {
          "output_type": "execute_result",
          "data": {
            "text/plain": [
              "<matplotlib.axes._subplots.AxesSubplot at 0x7f3636d049d0>"
            ]
          },
          "metadata": {
            "tags": []
          },
          "execution_count": 100
        },
        {
          "output_type": "display_data",
          "data": {
            "image/png": "[encoded data removed]",
            "text/plain": [
              "<Figure size 432x288 with 1 Axes>"
            ]
          },
          "metadata": {
            "tags": [],
            "needs_background": "light"
          }
        }
      ]
    },
    {
      "cell_type": "code",
      "metadata": {
        "colab": {
          "base_uri": "https://localhost:8080/",
          "height": 316
        },
        "id": "vE_484DRPJf5",
        "outputId": "0f83c3fc-d334-4fbb-e468-cff929872e71"
      },
      "source": [
        "desligamento = dados204.query('tipomovimentação==\"31\" or tipomovimentação==\"32\" or tipomovimentação==\"40\" or tipomovimentação==\"45\" or tipomovimentação==\"50\" or tipomovimentação==\"60\" or tipomovimentação==\"80\" or tipomovimentação==\"90\" or tipomovimentação==\"98\"')\n",
        "\n",
        "desligamento.groupby(['tipomovimentação']).tipomovimentação.count().sort_values()[-9:].plot(kind='bar', color='yellow',title=\"Demissões por Tipo de Movimentação em Abril/2020\")"
      ],
      "execution_count": 99,
      "outputs": [
        {
          "output_type": "execute_result",
          "data": {
            "text/plain": [
              "<matplotlib.axes._subplots.AxesSubplot at 0x7f3636c8d710>"
            ]
          },
          "metadata": {
            "tags": []
          },
          "execution_count": 99
        },
        {
          "output_type": "display_data",
          "data": {
            "image/png": "[encoded data removed]",
            "text/plain": [
              "<Figure size 432x288 with 1 Axes>"
            ]
          },
          "metadata": {
            "tags": [],
            "needs_background": "light"
          }
        }
      ]
    },
    {
      "cell_type": "code",
      "metadata": {
        "colab": {
          "base_uri": "https://localhost:8080/",
          "height": 316
        },
        "id": "uWoK3bbkPOKz",
        "outputId": "edc669ce-3389-4c61-9df7-02660a73d704"
      },
      "source": [
        "desligamento = dados205.query('tipomovimentação==\"31\" or tipomovimentação==\"32\" or tipomovimentação==\"40\" or tipomovimentação==\"45\" or tipomovimentação==\"50\" or tipomovimentação==\"60\" or tipomovimentação==\"80\" or tipomovimentação==\"90\" or tipomovimentação==\"98\"')\n",
        "\n",
        "desligamento.groupby(['tipomovimentação']).tipomovimentação.count().sort_values()[-9:].plot(kind='bar', color='green',title=\"Demissões por Tipo de Movimentação em Maio/2020\")"
      ],
      "execution_count": 98,
      "outputs": [
        {
          "output_type": "execute_result",
          "data": {
            "text/plain": [
              "<matplotlib.axes._subplots.AxesSubplot at 0x7f3636cfad50>"
            ]
          },
          "metadata": {
            "tags": []
          },
          "execution_count": 98
        },
        {
          "output_type": "display_data",
          "data": {
            "image/png": "[encoded data removed]",
            "text/plain": [
              "<Figure size 432x288 with 1 Axes>"
            ]
          },
          "metadata": {
            "tags": [],
            "needs_background": "light"
          }
        }
      ]
    },
    {
      "cell_type": "code",
      "metadata": {
        "colab": {
          "base_uri": "https://localhost:8080/",
          "height": 316
        },
        "id": "SnX5kb4DQLEf",
        "outputId": "bb480708-807c-4058-b165-ba55191529a4"
      },
      "source": [
        "desligamento = dados206.query('tipomovimentação==\"31\" or tipomovimentação==\"32\" or tipomovimentação==\"40\" or tipomovimentação==\"45\" or tipomovimentação==\"50\" or tipomovimentação==\"60\" or tipomovimentação==\"80\" or tipomovimentação==\"90\" or tipomovimentação==\"98\"')\n",
        "\n",
        "desligamento.groupby(['tipomovimentação']).tipomovimentação.count().sort_values()[-9:].plot(kind='bar', color='yellow',title=\"Demissões por Tipo de Movimentação em Jun/2020\")"
      ],
      "execution_count": 97,
      "outputs": [
        {
          "output_type": "execute_result",
          "data": {
            "text/plain": [
              "<matplotlib.axes._subplots.AxesSubplot at 0x7f3636e03e90>"
            ]
          },
          "metadata": {
            "tags": []
          },
          "execution_count": 97
        },
        {
          "output_type": "display_data",
          "data": {
            "image/png": "[encoded data removed]",
            "text/plain": [
              "<Figure size 432x288 with 1 Axes>"
            ]
          },
          "metadata": {
            "tags": [],
            "needs_background": "light"
          }
        }
      ]
    },
    {
      "cell_type": "code",
      "metadata": {
        "colab": {
          "base_uri": "https://localhost:8080/",
          "height": 316
        },
        "id": "CJGc37iVQVHW",
        "outputId": "c78be954-c882-4fa0-dfd0-bdfedde98430"
      },
      "source": [
        "desligamento = dados207.query('tipomovimentação==\"31\" or tipomovimentação==\"32\" or tipomovimentação==\"40\" or tipomovimentação==\"45\" or tipomovimentação==\"50\" or tipomovimentação==\"60\" or tipomovimentação==\"80\" or tipomovimentação==\"90\" or tipomovimentação==\"98\"')\n",
        "\n",
        "desligamento.groupby(['tipomovimentação']).tipomovimentação.count().sort_values()[-9:].plot(kind='bar',color='green', title=\"Demissões por Tipo de Movimentação em Jul/2020\")"
      ],
      "execution_count": 96,
      "outputs": [
        {
          "output_type": "execute_result",
          "data": {
            "text/plain": [
              "<matplotlib.axes._subplots.AxesSubplot at 0x7f3636ddde10>"
            ]
          },
          "metadata": {
            "tags": []
          },
          "execution_count": 96
        },
        {
          "output_type": "display_data",
          "data": {
            "image/png": "[encoded data removed]",
            "text/plain": [
              "<Figure size 432x288 with 1 Axes>"
            ]
          },
          "metadata": {
            "tags": [],
            "needs_background": "light"
          }
        }
      ]
    },
    {
      "cell_type": "code",
      "metadata": {
        "colab": {
          "base_uri": "https://localhost:8080/",
          "height": 316
        },
        "id": "1mRJ9KHJQao-",
        "outputId": "23904436-221f-4922-f8da-58d21e3c4903"
      },
      "source": [
        "desligamento = dados208.query('tipomovimentação==\"31\" or tipomovimentação==\"32\" or tipomovimentação==\"40\" or tipomovimentação==\"45\" or tipomovimentação==\"50\" or tipomovimentação==\"60\" or tipomovimentação==\"80\" or tipomovimentação==\"90\" or tipomovimentação==\"98\"')\n",
        "\n",
        "desligamento.groupby(['tipomovimentação']).tipomovimentação.count().sort_values()[-9:].plot(kind='bar',color='yellow', title=\"Demissões por Tipo de Movimentação em Ago/2020\")"
      ],
      "execution_count": 95,
      "outputs": [
        {
          "output_type": "execute_result",
          "data": {
            "text/plain": [
              "<matplotlib.axes._subplots.AxesSubplot at 0x7f3636f10650>"
            ]
          },
          "metadata": {
            "tags": []
          },
          "execution_count": 95
        },
        {
          "output_type": "display_data",
          "data": {
            "image/png": "[encoded data removed]",
            "text/plain": [
              "<Figure size 432x288 with 1 Axes>"
            ]
          },
          "metadata": {
            "tags": [],
            "needs_background": "light"
          }
        }
      ]
    },
    {
      "cell_type": "code",
      "metadata": {
        "colab": {
          "base_uri": "https://localhost:8080/",
          "height": 316
        },
        "id": "hNUjMO-1QjVy",
        "outputId": "41da9927-ec72-435f-8c3e-c0eecd773416"
      },
      "source": [
        "desligamento = dados209.query('tipomovimentação==\"31\" or tipomovimentação==\"32\" or tipomovimentação==\"40\" or tipomovimentação==\"45\" or tipomovimentação==\"50\" or tipomovimentação==\"60\" or tipomovimentação==\"80\" or tipomovimentação==\"90\" or tipomovimentação==\"98\"')\n",
        "\n",
        "desligamento.groupby(['tipomovimentação']).tipomovimentação.count().sort_values()[-9:].plot(kind='bar',color='green', title=\"Demissões por Tipo de Movimentação em Set/2020\")"
      ],
      "execution_count": 94,
      "outputs": [
        {
          "output_type": "execute_result",
          "data": {
            "text/plain": [
              "<matplotlib.axes._subplots.AxesSubplot at 0x7f3636f03d90>"
            ]
          },
          "metadata": {
            "tags": []
          },
          "execution_count": 94
        },
        {
          "output_type": "display_data",
          "data": {
            "image/png": "[encoded data removed]",
            "text/plain": [
              "<Figure size 432x288 with 1 Axes>"
            ]
          },
          "metadata": {
            "tags": [],
            "needs_background": "light"
          }
        }
      ]
    },
    {
      "cell_type": "code",
      "metadata": {
        "colab": {
          "base_uri": "https://localhost:8080/",
          "height": 316
        },
        "id": "DpNh8G-4QzQM",
        "outputId": "4c8105b8-0f58-4fc2-a1b4-f10b5c39be71"
      },
      "source": [
        "desligamento = dados2010.query('tipomovimentação==\"31\" or tipomovimentação==\"32\" or tipomovimentação==\"40\" or tipomovimentação==\"45\" or tipomovimentação==\"50\" or tipomovimentação==\"60\" or tipomovimentação==\"80\" or tipomovimentação==\"90\" or tipomovimentação==\"98\"')\n",
        "\n",
        "desligamento.groupby(['tipomovimentação']).tipomovimentação.count().sort_values()[-9:].plot(kind='bar', color='yellow',title=\"Demissões por Tipo de Movimentação em Out/2020\")"
      ],
      "execution_count": 93,
      "outputs": [
        {
          "output_type": "execute_result",
          "data": {
            "text/plain": [
              "<matplotlib.axes._subplots.AxesSubplot at 0x7f3636f8a1d0>"
            ]
          },
          "metadata": {
            "tags": []
          },
          "execution_count": 93
        },
        {
          "output_type": "display_data",
          "data": {
            "image/png": "[encoded data removed]",
            "text/plain": [
              "<Figure size 432x288 with 1 Axes>"
            ]
          },
          "metadata": {
            "tags": [],
            "needs_background": "light"
          }
        }
      ]
    },
    {
      "cell_type": "code",
      "metadata": {
        "colab": {
          "base_uri": "https://localhost:8080/",
          "height": 316
        },
        "id": "IGnDOA74Q7lW",
        "outputId": "16b5e306-1924-4b79-aad5-f5a650c9e943"
      },
      "source": [
        "desligamento = dados2011.query('tipomovimentação==\"31\" or tipomovimentação==\"32\" or tipomovimentação==\"40\" or tipomovimentação==\"45\" or tipomovimentação==\"50\" or tipomovimentação==\"60\" or tipomovimentação==\"80\" or tipomovimentação==\"90\" or tipomovimentação==\"98\"')\n",
        "\n",
        "desligamento.groupby(['tipomovimentação']).tipomovimentação.count().sort_values()[-9:].plot(kind='bar',color='green', title=\"Demissões por Tipo de Movimentação em Nov/2020\")"
      ],
      "execution_count": 92,
      "outputs": [
        {
          "output_type": "execute_result",
          "data": {
            "text/plain": [
              "<matplotlib.axes._subplots.AxesSubplot at 0x7f363721a390>"
            ]
          },
          "metadata": {
            "tags": []
          },
          "execution_count": 92
        },
        {
          "output_type": "display_data",
          "data": {
            "image/png": "[encoded data removed]",
            "text/plain": [
              "<Figure size 432x288 with 1 Axes>"
            ]
          },
          "metadata": {
            "tags": [],
            "needs_background": "light"
          }
        }
      ]
    },
    {
      "cell_type": "code",
      "metadata": {
        "colab": {
          "base_uri": "https://localhost:8080/",
          "height": 316
        },
        "id": "LZCl32sxRCVN",
        "outputId": "3a9c0cf2-a696-4348-b858-05eb7471a277"
      },
      "source": [
        "desligamento = dados2012.query('tipomovimentação==\"31\" or tipomovimentação==\"32\" or tipomovimentação==\"40\" or tipomovimentação==\"45\" or tipomovimentação==\"50\" or tipomovimentação==\"60\" or tipomovimentação==\"80\" or tipomovimentação==\"90\" or tipomovimentação==\"98\"')\n",
        "\n",
        "desligamento.groupby(['tipomovimentação']).tipomovimentação.count().sort_values()[-9:].plot(kind='bar',color='yellow', title=\"Demissões por Tipo de Movimentação em Dez/2020\")"
      ],
      "execution_count": 91,
      "outputs": [
        {
          "output_type": "execute_result",
          "data": {
            "text/plain": [
              "<matplotlib.axes._subplots.AxesSubplot at 0x7f363702c510>"
            ]
          },
          "metadata": {
            "tags": []
          },
          "execution_count": 91
        },
        {
          "output_type": "display_data",
          "data": {
            "image/png": "[encoded data removed]",
            "text/plain": [
              "<Figure size 432x288 with 1 Axes>"
            ]
          },
          "metadata": {
            "tags": [],
            "needs_background": "light"
          }
        }
      ]
    },
    {
      "cell_type": "markdown",
      "metadata": {
        "id": "QkGGU83ypeNk"
      },
      "source": [
        "#ADMISSÕES POR TIPO DE MOVIMENTAÇÃO - MÊS/2020"
      ]
    },
    {
      "cell_type": "code",
      "metadata": {
        "colab": {
          "base_uri": "https://localhost:8080/",
          "height": 722
        },
        "id": "hYs8P4b8YR5q",
        "outputId": "efd60841-bb4c-4f5b-df76-d662533cd6f4"
      },
      "source": [
        "admissoes = dados201.query('tipomovimentação==\"10\" or tipomovimentação==\"20\" or tipomovimentação==\"25\" or tipomovimentação==\"35\" or tipomovimentação==\"70\"')\n",
        "\n",
        "admissoes.groupby('idade').size().sort_values().plot(kind='bar', figsize=(20,15), title=\"Admissões por Faixa Etária jan/2020\")"
      ],
      "execution_count": 72,
      "outputs": [
        {
          "output_type": "execute_result",
          "data": {
            "text/plain": [
              "<matplotlib.axes._subplots.AxesSubplot at 0x7f363962ac10>"
            ]
          },
          "metadata": {
            "tags": []
          },
          "execution_count": 72
        },
        {
          "output_type": "display_data",
          "data": {
            "image/png": "[encoded data removed]",
            "text/plain": [
              "<Figure size 1440x1080 with 1 Axes>"
            ]
          },
          "metadata": {
            "tags": [],
            "needs_background": "light"
          }
        }
      ]
    },
    {
      "cell_type": "code",
      "metadata": {
        "colab": {
          "base_uri": "https://localhost:8080/",
          "height": 722
        },
        "id": "7CKLdtNWfBG0",
        "outputId": "3557b545-b600-41e2-cea6-bf992812d72d"
      },
      "source": [
        "admissoes = dados202.query('tipomovimentação==\"10\" or tipomovimentação==\"20\" or tipomovimentação==\"25\" or tipomovimentação==\"35\" or tipomovimentação==\"70\"')\n",
        "\n",
        "admissoes.groupby('idade').size().sort_values().plot(kind='bar', color='red',figsize=(20,15), title=\"Admissões por Faixa Etária fev/2020\")"
      ],
      "execution_count": 90,
      "outputs": [
        {
          "output_type": "execute_result",
          "data": {
            "text/plain": [
              "<matplotlib.axes._subplots.AxesSubplot at 0x7f36374f17d0>"
            ]
          },
          "metadata": {
            "tags": []
          },
          "execution_count": 90
        },
        {
          "output_type": "display_data",
          "data": {
            "image/png": "[encoded data removed]",
            "text/plain": [
              "<Figure size 1440x1080 with 1 Axes>"
            ]
          },
          "metadata": {
            "tags": [],
            "needs_background": "light"
          }
        }
      ]
    },
    {
      "cell_type": "code",
      "metadata": {
        "colab": {
          "base_uri": "https://localhost:8080/",
          "height": 722
        },
        "id": "Nd7R9W1HfI9Y",
        "outputId": "6c1abb45-b20c-4128-ca9d-c98b24f93e09"
      },
      "source": [
        "admissoes = dados203.query('tipomovimentação==\"10\" or tipomovimentação==\"20\" or tipomovimentação==\"25\" or tipomovimentação==\"35\" or tipomovimentação==\"70\"')\n",
        "\n",
        "admissoes.groupby('idade').size().sort_values().plot(kind='bar', figsize=(20,15), title=\"Admissões por Faixa Etária Mar/2020\")"
      ],
      "execution_count": 74,
      "outputs": [
        {
          "output_type": "execute_result",
          "data": {
            "text/plain": [
              "<matplotlib.axes._subplots.AxesSubplot at 0x7f36391b6ad0>"
            ]
          },
          "metadata": {
            "tags": []
          },
          "execution_count": 74
        },
        {
          "output_type": "display_data",
          "data": {
            "image/png": "[encoded data removed]",
            "text/plain": [
              "<Figure size 1440x1080 with 1 Axes>"
            ]
          },
          "metadata": {
            "tags": [],
            "needs_background": "light"
          }
        }
      ]
    },
    {
      "cell_type": "code",
      "metadata": {
        "colab": {
          "base_uri": "https://localhost:8080/",
          "height": 722
        },
        "id": "JNQznjHKfR88",
        "outputId": "69557161-c654-4910-bc47-7e4b34df9766"
      },
      "source": [
        "admissoes = dados204.query('tipomovimentação==\"10\" or tipomovimentação==\"20\" or tipomovimentação==\"25\" or tipomovimentação==\"35\" or tipomovimentação==\"70\"')\n",
        "\n",
        "admissoes.groupby('idade').size().sort_values().plot(kind='bar', color='red',figsize=(20,15), title=\"Admissões por Faixa Etária Abr/2020\")"
      ],
      "execution_count": 89,
      "outputs": [
        {
          "output_type": "execute_result",
          "data": {
            "text/plain": [
              "<matplotlib.axes._subplots.AxesSubplot at 0x7f363745e390>"
            ]
          },
          "metadata": {
            "tags": []
          },
          "execution_count": 89
        },
        {
          "output_type": "display_data",
          "data": {
            "image/png": "[encoded data removed]",
            "text/plain": [
              "<Figure size 1440x1080 with 1 Axes>"
            ]
          },
          "metadata": {
            "tags": [],
            "needs_background": "light"
          }
        }
      ]
    },
    {
      "cell_type": "code",
      "metadata": {
        "colab": {
          "base_uri": "https://localhost:8080/",
          "height": 722
        },
        "id": "av_1ka79fgVN",
        "outputId": "21409d14-fb34-4384-8fb9-10135701bf06"
      },
      "source": [
        "admissoes = dados205.query('tipomovimentação==\"10\" or tipomovimentação==\"20\" or tipomovimentação==\"25\" or tipomovimentação==\"35\" or tipomovimentação==\"70\"')\n",
        "\n",
        "admissoes.groupby('idade').size().sort_values().plot(kind='bar', figsize=(20,15), title=\"Admissões por Faixa Etária Maio/2020\")"
      ],
      "execution_count": 76,
      "outputs": [
        {
          "output_type": "execute_result",
          "data": {
            "text/plain": [
              "<matplotlib.axes._subplots.AxesSubplot at 0x7f3638dc0e10>"
            ]
          },
          "metadata": {
            "tags": []
          },
          "execution_count": 76
        },
        {
          "output_type": "display_data",
          "data": {
            "image/png": "[encoded data removed]",
            "text/plain": [
              "<Figure size 1440x1080 with 1 Axes>"
            ]
          },
          "metadata": {
            "tags": [],
            "needs_background": "light"
          }
        }
      ]
    },
    {
      "cell_type": "code",
      "metadata": {
        "colab": {
          "base_uri": "https://localhost:8080/",
          "height": 722
        },
        "id": "zqETXNfVfv7r",
        "outputId": "e497b772-c934-4d97-d05a-d6df0fd02661"
      },
      "source": [
        "admissoes = dados206.query('tipomovimentação==\"10\" or tipomovimentação==\"20\" or tipomovimentação==\"25\" or tipomovimentação==\"35\" or tipomovimentação==\"70\"')\n",
        "\n",
        "admissoes.groupby('idade').size().sort_values().plot(kind='bar',color='red', figsize=(20,15), title=\"Admissões por Faixa Etária jun/2020\")"
      ],
      "execution_count": 88,
      "outputs": [
        {
          "output_type": "execute_result",
          "data": {
            "text/plain": [
              "<matplotlib.axes._subplots.AxesSubplot at 0x7f36386be910>"
            ]
          },
          "metadata": {
            "tags": []
          },
          "execution_count": 88
        },
        {
          "output_type": "display_data",
          "data": {
            "image/png": "[encoded data removed]",
            "text/plain": [
              "<Figure size 1440x1080 with 1 Axes>"
            ]
          },
          "metadata": {
            "tags": [],
            "needs_background": "light"
          }
        }
      ]
    },
    {
      "cell_type": "code",
      "metadata": {
        "colab": {
          "base_uri": "https://localhost:8080/",
          "height": 722
        },
        "id": "SBnrsoKIfxHL",
        "outputId": "083ad9da-9d37-4abe-cee8-522169188a66"
      },
      "source": [
        "admissoes = dados207.query('tipomovimentação==\"10\" or tipomovimentação==\"20\" or tipomovimentação==\"25\" or tipomovimentação==\"35\" or tipomovimentação==\"70\"')\n",
        "\n",
        "admissoes.groupby('idade').size().sort_values().plot(kind='bar', figsize=(20,15), title=\"Admissões por Faixa Etária jul/2020\")"
      ],
      "execution_count": 78,
      "outputs": [
        {
          "output_type": "execute_result",
          "data": {
            "text/plain": [
              "<matplotlib.axes._subplots.AxesSubplot at 0x7f36389c6dd0>"
            ]
          },
          "metadata": {
            "tags": []
          },
          "execution_count": 78
        },
        {
          "output_type": "display_data",
          "data": {
            "image/png": "[encoded data removed]",
            "text/plain": [
              "<Figure size 1440x1080 with 1 Axes>"
            ]
          },
          "metadata": {
            "tags": [],
            "needs_background": "light"
          }
        }
      ]
    },
    {
      "cell_type": "code",
      "metadata": {
        "colab": {
          "base_uri": "https://localhost:8080/",
          "height": 722
        },
        "id": "pDHxd3AZfxSm",
        "outputId": "164186b3-fe5b-410b-db41-bad0ec53a2ae"
      },
      "source": [
        "admissoes = dados208.query('tipomovimentação==\"10\" or tipomovimentação==\"20\" or tipomovimentação==\"25\" or tipomovimentação==\"35\" or tipomovimentação==\"70\"')\n",
        "\n",
        "admissoes.groupby('idade').size().sort_values().plot(kind='bar', color='red',figsize=(20,15), title=\"Admissões por Faixa Etária Ago/2020\")"
      ],
      "execution_count": 87,
      "outputs": [
        {
          "output_type": "execute_result",
          "data": {
            "text/plain": [
              "<matplotlib.axes._subplots.AxesSubplot at 0x7f36378e9550>"
            ]
          },
          "metadata": {
            "tags": []
          },
          "execution_count": 87
        },
        {
          "output_type": "display_data",
          "data": {
            "image/png": "[encoded data removed]",
            "text/plain": [
              "<Figure size 1440x1080 with 1 Axes>"
            ]
          },
          "metadata": {
            "tags": [],
            "needs_background": "light"
          }
        }
      ]
    },
    {
      "cell_type": "code",
      "metadata": {
        "colab": {
          "base_uri": "https://localhost:8080/",
          "height": 722
        },
        "id": "XNTNHj5mfxcU",
        "outputId": "28dda8bd-5470-4304-ce86-29dbf845d06b"
      },
      "source": [
        "admissoes = dados209.query('tipomovimentação==\"10\" or tipomovimentação==\"20\" or tipomovimentação==\"25\" or tipomovimentação==\"35\" or tipomovimentação==\"70\"')\n",
        "\n",
        "admissoes.groupby('idade').size().sort_values().plot(kind='bar', figsize=(20,15), title=\"Admissões por Faixa Etária Set/2020\")"
      ],
      "execution_count": 80,
      "outputs": [
        {
          "output_type": "execute_result",
          "data": {
            "text/plain": [
              "<matplotlib.axes._subplots.AxesSubplot at 0x7f36385a04d0>"
            ]
          },
          "metadata": {
            "tags": []
          },
          "execution_count": 80
        },
        {
          "output_type": "display_data",
          "data": {
            "image/png": "[encoded data removed]",
            "text/plain": [
              "<Figure size 1440x1080 with 1 Axes>"
            ]
          },
          "metadata": {
            "tags": [],
            "needs_background": "light"
          }
        }
      ]
    },
    {
      "cell_type": "code",
      "metadata": {
        "colab": {
          "base_uri": "https://localhost:8080/",
          "height": 722
        },
        "id": "w4BiaWlSfxmH",
        "outputId": "9a65e408-9ac5-4b6f-9383-29f988b1a78c"
      },
      "source": [
        "admissoes = dados2010.query('tipomovimentação==\"10\" or tipomovimentação==\"20\" or tipomovimentação==\"25\" or tipomovimentação==\"35\" or tipomovimentação==\"70\"')\n",
        "\n",
        "admissoes.groupby('idade').size().sort_values().plot(kind='bar',color='red', figsize=(20,15), title=\"Admissões por Faixa Etária Out/2020\")"
      ],
      "execution_count": 86,
      "outputs": [
        {
          "output_type": "execute_result",
          "data": {
            "text/plain": [
              "<matplotlib.axes._subplots.AxesSubplot at 0x7f3637a5de50>"
            ]
          },
          "metadata": {
            "tags": []
          },
          "execution_count": 86
        },
        {
          "output_type": "display_data",
          "data": {
            "image/png": "[encoded data removed]",
            "text/plain": [
              "<Figure size 1440x1080 with 1 Axes>"
            ]
          },
          "metadata": {
            "tags": [],
            "needs_background": "light"
          }
        }
      ]
    },
    {
      "cell_type": "code",
      "metadata": {
        "colab": {
          "base_uri": "https://localhost:8080/",
          "height": 722
        },
        "id": "EMK5_95ejEwS",
        "outputId": "41cad835-9a71-4d71-fcbe-caf0b8211fc5"
      },
      "source": [
        "admissoes = dados2011.query('tipomovimentação==\"10\" or tipomovimentação==\"20\" or tipomovimentação==\"25\" or tipomovimentação==\"35\" or tipomovimentação==\"70\"')\n",
        "\n",
        "admissoes.groupby('idade').size().sort_values().plot(kind='bar', figsize=(20,15), title=\"Admissões por Faixa Etária Nov/2020\")"
      ],
      "execution_count": 82,
      "outputs": [
        {
          "output_type": "execute_result",
          "data": {
            "text/plain": [
              "<matplotlib.axes._subplots.AxesSubplot at 0x7f36381c1150>"
            ]
          },
          "metadata": {
            "tags": []
          },
          "execution_count": 82
        },
        {
          "output_type": "display_data",
          "data": {
            "image/png": "[encoded data removed]",
            "text/plain": [
              "<Figure size 1440x1080 with 1 Axes>"
            ]
          },
          "metadata": {
            "tags": [],
            "needs_background": "light"
          }
        }
      ]
    },
    {
      "cell_type": "code",
      "metadata": {
        "colab": {
          "base_uri": "https://localhost:8080/",
          "height": 722
        },
        "id": "TH78i6gBjRIG",
        "outputId": "b77644ac-056a-4756-ed39-0776460c12e9"
      },
      "source": [
        "admissoes = dados2012.query('tipomovimentação==\"10\" or tipomovimentação==\"20\" or tipomovimentação==\"25\" or tipomovimentação==\"35\" or tipomovimentação==\"70\"')\n",
        "\n",
        "admissoes.groupby('idade').size().sort_values().plot(kind='bar', color='red',figsize=(20,15), title=\"Admissões por Faixa Etária Dez/2020\")"
      ],
      "execution_count": 85,
      "outputs": [
        {
          "output_type": "execute_result",
          "data": {
            "text/plain": [
              "<matplotlib.axes._subplots.AxesSubplot at 0x7f3637d24710>"
            ]
          },
          "metadata": {
            "tags": []
          },
          "execution_count": 85
        },
        {
          "output_type": "display_data",
          "data": {
            "image/png": "[encoded data removed]",
            "text/plain": [
              "<Figure size 1440x1080 with 1 Axes>"
            ]
          },
          "metadata": {
            "tags": [],
            "needs_background": "light"
          }
        }
      ]
    },
    {
      "cell_type": "markdown",
      "metadata": {
        "id": "0RoLDfrFpKH8"
      },
      "source": [
        "#DESLIGAMENTOS MÊS 2020 POR SEXO"
      ]
    },
    {
      "cell_type": "code",
      "metadata": {
        "colab": {
          "base_uri": "https://localhost:8080/",
          "height": 310
        },
        "id": "bC_Z3lykjiOJ",
        "outputId": "3497ffc0-e28b-4495-a2c8-e6f50b1ebc88"
      },
      "source": [
        "desligamento = dados201.groupby('sexo').size().sort_values().plot(kind='bar', color=['red', 'blue'], title=\"Demissões por Sexo jan/2020\", legend=True)\n",
        "\n",
        "red_patch = mpatches.Patch(color='red', label='Feminino')\n",
        "blue_patch = mpatches.Patch(color='blue', label='Masculino')\n",
        "plt.legend(handles=[red_patch, blue_patch])\n",
        "\n"
      ],
      "execution_count": 111,
      "outputs": [
        {
          "output_type": "execute_result",
          "data": {
            "text/plain": [
              "<matplotlib.legend.Legend at 0x7f3636878490>"
            ]
          },
          "metadata": {
            "tags": []
          },
          "execution_count": 111
        },
        {
          "output_type": "display_data",
          "data": {
            "image/png": "[encoded data removed]",
            "text/plain": [
              "<Figure size 432x288 with 1 Axes>"
            ]
          },
          "metadata": {
            "tags": [],
            "needs_background": "light"
          }
        }
      ]
    },
    {
      "cell_type": "code",
      "metadata": {
        "colab": {
          "base_uri": "https://localhost:8080/",
          "height": 310
        },
        "id": "-XwkOr0kjioy",
        "outputId": "6b1489c7-d951-4f90-b0b1-5bd344765d23"
      },
      "source": [
        "desligamento = dados202.groupby('sexo').size().sort_values().plot(kind='bar', color=['red', 'blue'], title=\"Demissões por Sexo Fev/2020\", legend=True)\n",
        "\n",
        "red_patch = mpatches.Patch(color='red', label='Feminino')\n",
        "blue_patch = mpatches.Patch(color='blue', label='Masculino')\n",
        "plt.legend(handles=[red_patch, blue_patch])\n",
        "\n"
      ],
      "execution_count": 112,
      "outputs": [
        {
          "output_type": "execute_result",
          "data": {
            "text/plain": [
              "<matplotlib.legend.Legend at 0x7f3637701f50>"
            ]
          },
          "metadata": {
            "tags": []
          },
          "execution_count": 112
        },
        {
          "output_type": "display_data",
          "data": {
            "image/png": "[encoded data removed]",
            "text/plain": [
              "<Figure size 432x288 with 1 Axes>"
            ]
          },
          "metadata": {
            "tags": [],
            "needs_background": "light"
          }
        }
      ]
    },
    {
      "cell_type": "code",
      "metadata": {
        "colab": {
          "base_uri": "https://localhost:8080/",
          "height": 310
        },
        "id": "iaVx8rs7ji4F",
        "outputId": "99ab7245-05aa-4d8b-c28d-19d3e0d4e4ad"
      },
      "source": [
        "desligamento = dados203.groupby('sexo').size().sort_values().plot(kind='bar', color=['red', 'blue'], title=\"Demissões por Sexo Mar/2020\", legend=True)\n",
        "\n",
        "red_patch = mpatches.Patch(color='red', label='Feminino')\n",
        "blue_patch = mpatches.Patch(color='blue', label='Masculino')\n",
        "plt.legend(handles=[red_patch, blue_patch])\n",
        "\n"
      ],
      "execution_count": 113,
      "outputs": [
        {
          "output_type": "execute_result",
          "data": {
            "text/plain": [
              "<matplotlib.legend.Legend at 0x7f36374d6610>"
            ]
          },
          "metadata": {
            "tags": []
          },
          "execution_count": 113
        },
        {
          "output_type": "display_data",
          "data": {
            "image/png": "[encoded data removed]",
            "text/plain": [
              "<Figure size 432x288 with 1 Axes>"
            ]
          },
          "metadata": {
            "tags": [],
            "needs_background": "light"
          }
        }
      ]
    },
    {
      "cell_type": "code",
      "metadata": {
        "colab": {
          "base_uri": "https://localhost:8080/",
          "height": 310
        },
        "id": "jirZTMw2nSUh",
        "outputId": "a631bfe5-1c62-4458-ac27-aaa4fb57a2a0"
      },
      "source": [
        "desligamento = dados204.groupby('sexo').size().sort_values().plot(kind='bar', color=['red', 'blue'], title=\"Demissões por Sexo Abr/2020\", legend=True)\n",
        "\n",
        "red_patch = mpatches.Patch(color='red', label='Feminino')\n",
        "blue_patch = mpatches.Patch(color='blue', label='Masculino')\n",
        "plt.legend(handles=[red_patch, blue_patch])\n",
        "\n"
      ],
      "execution_count": 114,
      "outputs": [
        {
          "output_type": "execute_result",
          "data": {
            "text/plain": [
              "<matplotlib.legend.Legend at 0x7f3636950bd0>"
            ]
          },
          "metadata": {
            "tags": []
          },
          "execution_count": 114
        },
        {
          "output_type": "display_data",
          "data": {
            "image/png": "[encoded data removed]",
            "text/plain": [
              "<Figure size 432x288 with 1 Axes>"
            ]
          },
          "metadata": {
            "tags": [],
            "needs_background": "light"
          }
        }
      ]
    },
    {
      "cell_type": "code",
      "metadata": {
        "colab": {
          "base_uri": "https://localhost:8080/",
          "height": 310
        },
        "id": "rcTbJ36lnSn7",
        "outputId": "8de8a3ef-ba91-41f2-9f5d-f52344681358"
      },
      "source": [
        "desligamento = dados205.groupby('sexo').size().sort_values().plot(kind='bar', color=['red', 'blue'], title=\"Demissões por Sexo Maio/2020\", legend=True)\n",
        "\n",
        "red_patch = mpatches.Patch(color='red', label='Feminino')\n",
        "blue_patch = mpatches.Patch(color='blue', label='Masculino')\n",
        "plt.legend(handles=[red_patch, blue_patch])\n",
        "\n"
      ],
      "execution_count": 115,
      "outputs": [
        {
          "output_type": "execute_result",
          "data": {
            "text/plain": [
              "<matplotlib.legend.Legend at 0x7f36370552d0>"
            ]
          },
          "metadata": {
            "tags": []
          },
          "execution_count": 115
        },
        {
          "output_type": "display_data",
          "data": {
            "image/png": "[encoded data removed]",
            "text/plain": [
              "<Figure size 432x288 with 1 Axes>"
            ]
          },
          "metadata": {
            "tags": [],
            "needs_background": "light"
          }
        }
      ]
    },
    {
      "cell_type": "code",
      "metadata": {
        "colab": {
          "base_uri": "https://localhost:8080/",
          "height": 310
        },
        "id": "fz_tQpRknS0x",
        "outputId": "694c2ecc-ca5d-4a87-d7f1-354f9260c8d1"
      },
      "source": [
        "desligamento = dados206.groupby('sexo').size().sort_values().plot(kind='bar', color=['red', 'blue'], title=\"Demissões por Sexo Jun/2020\", legend=True)\n",
        "\n",
        "red_patch = mpatches.Patch(color='red', label='Feminino')\n",
        "blue_patch = mpatches.Patch(color='blue', label='Masculino')\n",
        "plt.legend(handles=[red_patch, blue_patch])\n",
        "\n"
      ],
      "execution_count": 116,
      "outputs": [
        {
          "output_type": "execute_result",
          "data": {
            "text/plain": [
              "<matplotlib.legend.Legend at 0x7f3636677350>"
            ]
          },
          "metadata": {
            "tags": []
          },
          "execution_count": 116
        },
        {
          "output_type": "display_data",
          "data": {
            "image/png": "[encoded data removed]",
            "text/plain": [
              "<Figure size 432x288 with 1 Axes>"
            ]
          },
          "metadata": {
            "tags": [],
            "needs_background": "light"
          }
        }
      ]
    },
    {
      "cell_type": "code",
      "metadata": {
        "colab": {
          "base_uri": "https://localhost:8080/",
          "height": 310
        },
        "id": "HbJgoC_jjjH_",
        "outputId": "ada30fce-62db-4596-cf40-a57ecaba0c75"
      },
      "source": [
        "desligamento = dados207.groupby('sexo').size().sort_values().plot(kind='bar', color=['red', 'blue'], title=\"Demissões por Sexo Jul/2020\", legend=True)\n",
        "\n",
        "red_patch = mpatches.Patch(color='red', label='Feminino')\n",
        "blue_patch = mpatches.Patch(color='blue', label='Masculino')\n",
        "plt.legend(handles=[red_patch, blue_patch])\n",
        "\n"
      ],
      "execution_count": 117,
      "outputs": [
        {
          "output_type": "execute_result",
          "data": {
            "text/plain": [
              "<matplotlib.legend.Legend at 0x7f36365eda10>"
            ]
          },
          "metadata": {
            "tags": []
          },
          "execution_count": 117
        },
        {
          "output_type": "display_data",
          "data": {
            "image/png": "[encoded data removed]",
            "text/plain": [
              "<Figure size 432x288 with 1 Axes>"
            ]
          },
          "metadata": {
            "tags": [],
            "needs_background": "light"
          }
        }
      ]
    },
    {
      "cell_type": "code",
      "metadata": {
        "colab": {
          "base_uri": "https://localhost:8080/",
          "height": 310
        },
        "id": "jwH2fQIpnspj",
        "outputId": "dd0fad2d-8375-42d3-82de-2d768d95e302"
      },
      "source": [
        "desligamento = dados208.groupby('sexo').size().sort_values().plot(kind='bar', color=['red', 'blue'], title=\"Demissões por Sexo Ago/2020\", legend=True)\n",
        "\n",
        "red_patch = mpatches.Patch(color='red', label='Feminino')\n",
        "blue_patch = mpatches.Patch(color='blue', label='Masculino')\n",
        "plt.legend(handles=[red_patch, blue_patch])\n",
        "\n"
      ],
      "execution_count": 118,
      "outputs": [
        {
          "output_type": "execute_result",
          "data": {
            "text/plain": [
              "<matplotlib.legend.Legend at 0x7f36365714d0>"
            ]
          },
          "metadata": {
            "tags": []
          },
          "execution_count": 118
        },
        {
          "output_type": "display_data",
          "data": {
            "image/png": "[encoded data removed]",
            "text/plain": [
              "<Figure size 432x288 with 1 Axes>"
            ]
          },
          "metadata": {
            "tags": [],
            "needs_background": "light"
          }
        }
      ]
    },
    {
      "cell_type": "code",
      "metadata": {
        "colab": {
          "base_uri": "https://localhost:8080/",
          "height": 310
        },
        "id": "8x8JXOQUns8D",
        "outputId": "5a1b407e-3e76-4f66-b3f3-8c0c62623984"
      },
      "source": [
        "desligamento = dados209.groupby('sexo').size().sort_values().plot(kind='bar', color=['red', 'blue'], title=\"Demissões por Sexo Set/2020\", legend=True)\n",
        "\n",
        "red_patch = mpatches.Patch(color='red', label='Feminino')\n",
        "blue_patch = mpatches.Patch(color='blue', label='Masculino')\n",
        "plt.legend(handles=[red_patch, blue_patch])\n",
        "\n"
      ],
      "execution_count": 119,
      "outputs": [
        {
          "output_type": "execute_result",
          "data": {
            "text/plain": [
              "<matplotlib.legend.Legend at 0x7f36364f62d0>"
            ]
          },
          "metadata": {
            "tags": []
          },
          "execution_count": 119
        },
        {
          "output_type": "display_data",
          "data": {
            "image/png": "[encoded data removed]",
            "text/plain": [
              "<Figure size 432x288 with 1 Axes>"
            ]
          },
          "metadata": {
            "tags": [],
            "needs_background": "light"
          }
        }
      ]
    },
    {
      "cell_type": "code",
      "metadata": {
        "colab": {
          "base_uri": "https://localhost:8080/",
          "height": 310
        },
        "id": "030lpJEfn6S8",
        "outputId": "1284c183-c6b9-429c-adc4-16a4dd157120"
      },
      "source": [
        "desligamento = dados2010.groupby('sexo').size().sort_values().plot(kind='bar', color=['red', 'blue'], title=\"Demissões por Sexo Out/2020\", legend=True)\n",
        "\n",
        "red_patch = mpatches.Patch(color='red', label='Feminino')\n",
        "blue_patch = mpatches.Patch(color='blue', label='Masculino')\n",
        "plt.legend(handles=[red_patch, blue_patch])\n",
        "\n"
      ],
      "execution_count": 120,
      "outputs": [
        {
          "output_type": "execute_result",
          "data": {
            "text/plain": [
              "<matplotlib.legend.Legend at 0x7f363646f450>"
            ]
          },
          "metadata": {
            "tags": []
          },
          "execution_count": 120
        },
        {
          "output_type": "display_data",
          "data": {
            "image/png": "[encoded data removed]",
            "text/plain": [
              "<Figure size 432x288 with 1 Axes>"
            ]
          },
          "metadata": {
            "tags": [],
            "needs_background": "light"
          }
        }
      ]
    },
    {
      "cell_type": "code",
      "metadata": {
        "colab": {
          "base_uri": "https://localhost:8080/",
          "height": 310
        },
        "id": "a-Sq_b7Zn6mL",
        "outputId": "2035c688-42c8-4ed0-ca27-a1fd2cbd6ee1"
      },
      "source": [
        "desligamento = dados2011.groupby('sexo').size().sort_values().plot(kind='bar', color=['red', 'blue'], title=\"Demissões por Sexo Nov/2020\", legend=True)\n",
        "\n",
        "red_patch = mpatches.Patch(color='red', label='Feminino')\n",
        "blue_patch = mpatches.Patch(color='blue', label='Masculino')\n",
        "plt.legend(handles=[red_patch, blue_patch])\n",
        "\n"
      ],
      "execution_count": 121,
      "outputs": [
        {
          "output_type": "execute_result",
          "data": {
            "text/plain": [
              "<matplotlib.legend.Legend at 0x7f36363ef290>"
            ]
          },
          "metadata": {
            "tags": []
          },
          "execution_count": 121
        },
        {
          "output_type": "display_data",
          "data": {
            "image/png": "[encoded data removed]",
            "text/plain": [
              "<Figure size 432x288 with 1 Axes>"
            ]
          },
          "metadata": {
            "tags": [],
            "needs_background": "light"
          }
        }
      ]
    },
    {
      "cell_type": "code",
      "metadata": {
        "colab": {
          "base_uri": "https://localhost:8080/",
          "height": 310
        },
        "id": "VYorR1lkoM73",
        "outputId": "da644342-64a4-4f67-8225-ddebfe37dd78"
      },
      "source": [
        "desligamento = dados2012.groupby('sexo').size().sort_values().plot(kind='bar', color=['red', 'blue'], title=\"Demissões por Sexo Dez/2020\", legend=True)\n",
        "\n",
        "red_patch = mpatches.Patch(color='red', label='Feminino')\n",
        "blue_patch = mpatches.Patch(color='blue', label='Masculino')\n",
        "plt.legend(handles=[red_patch, blue_patch])\n",
        "\n"
      ],
      "execution_count": 122,
      "outputs": [
        {
          "output_type": "execute_result",
          "data": {
            "text/plain": [
              "<matplotlib.legend.Legend at 0x7f3636373390>"
            ]
          },
          "metadata": {
            "tags": []
          },
          "execution_count": 122
        },
        {
          "output_type": "display_data",
          "data": {
            "image/png": "[encoded data removed]",
            "text/plain": [
              "<Figure size 432x288 with 1 Axes>"
            ]
          },
          "metadata": {
            "tags": [],
            "needs_background": "light"
          }
        }
      ]
    },
    {
      "cell_type": "markdown",
      "metadata": {
        "id": "1pV4u7RJo4pl"
      },
      "source": [
        "#ADMISSÕES POR MÊS 2020 POR SEXO"
      ]
    },
    {
      "cell_type": "code",
      "metadata": {
        "colab": {
          "base_uri": "https://localhost:8080/",
          "height": 310
        },
        "id": "rwZFsdJwoaop",
        "outputId": "cc393c3b-8bf1-4ccf-935a-36f6a04031c7"
      },
      "source": [
        "admissoes = dados201.groupby('sexo').size().sort_values().plot(kind='bar', color=['yellow', 'green'], title=\"Admissões por Sexo em Jan/2020\", legend=True)\n",
        "\n",
        "red_patch = mpatches.Patch(color='yellow', label='Feminino')\n",
        "blue_patch = mpatches.Patch(color='green', label='Masculino')\n",
        "plt.legend(handles=[red_patch, blue_patch])"
      ],
      "execution_count": 124,
      "outputs": [
        {
          "output_type": "execute_result",
          "data": {
            "text/plain": [
              "<matplotlib.legend.Legend at 0x7f363626c190>"
            ]
          },
          "metadata": {
            "tags": []
          },
          "execution_count": 124
        },
        {
          "output_type": "display_data",
          "data": {
            "image/png": "[encoded data removed]",
            "text/plain": [
              "<Figure size 432x288 with 1 Axes>"
            ]
          },
          "metadata": {
            "tags": [],
            "needs_background": "light"
          }
        }
      ]
    },
    {
      "cell_type": "code",
      "metadata": {
        "colab": {
          "base_uri": "https://localhost:8080/",
          "height": 310
        },
        "id": "liwX7ShRobrJ",
        "outputId": "a10d4b9a-7932-47af-e4e1-cfe912dd647a"
      },
      "source": [
        "admissoes = dados202.groupby('sexo').size().sort_values().plot(kind='bar', color=['yellow', 'green'], title=\"Admissões por Sexo em Fev/2020\", legend=True)\n",
        "\n",
        "red_patch = mpatches.Patch(color='yellow', label='Feminino')\n",
        "blue_patch = mpatches.Patch(color='green', label='Masculino')\n",
        "plt.legend(handles=[red_patch, blue_patch])"
      ],
      "execution_count": 125,
      "outputs": [
        {
          "output_type": "execute_result",
          "data": {
            "text/plain": [
              "<matplotlib.legend.Legend at 0x7f36361ec350>"
            ]
          },
          "metadata": {
            "tags": []
          },
          "execution_count": 125
        },
        {
          "output_type": "display_data",
          "data": {
            "image/png": "[encoded data removed]",
            "text/plain": [
              "<Figure size 432x288 with 1 Axes>"
            ]
          },
          "metadata": {
            "tags": [],
            "needs_background": "light"
          }
        }
      ]
    },
    {
      "cell_type": "code",
      "metadata": {
        "colab": {
          "base_uri": "https://localhost:8080/",
          "height": 310
        },
        "id": "HETJwvNLobx4",
        "outputId": "f1d5a409-45a5-49ce-f33e-b5b4cefe92a0"
      },
      "source": [
        "admissoes = dados203.groupby('sexo').size().sort_values().plot(kind='bar', color=['yellow', 'green'], title=\"Admissões por Sexo em Mar/2020\", legend=True)\n",
        "\n",
        "red_patch = mpatches.Patch(color='yellow', label='Feminino')\n",
        "blue_patch = mpatches.Patch(color='green', label='Masculino')\n",
        "plt.legend(handles=[red_patch, blue_patch])"
      ],
      "execution_count": 126,
      "outputs": [
        {
          "output_type": "execute_result",
          "data": {
            "text/plain": [
              "<matplotlib.legend.Legend at 0x7f3636168290>"
            ]
          },
          "metadata": {
            "tags": []
          },
          "execution_count": 126
        },
        {
          "output_type": "display_data",
          "data": {
            "image/png": "[encoded data removed]",
            "text/plain": [
              "<Figure size 432x288 with 1 Axes>"
            ]
          },
          "metadata": {
            "tags": [],
            "needs_background": "light"
          }
        }
      ]
    },
    {
      "cell_type": "code",
      "metadata": {
        "colab": {
          "base_uri": "https://localhost:8080/",
          "height": 310
        },
        "id": "HIH1yj8nob5t",
        "outputId": "825083f5-d9af-4ace-88a2-2f5c6033f05e"
      },
      "source": [
        "admissoes = dados204.groupby('sexo').size().sort_values().plot(kind='bar', color=['yellow', 'green'], title=\"Admissões por Sexo em Abr/2020\", legend=True)\n",
        "\n",
        "red_patch = mpatches.Patch(color='yellow', label='Feminino')\n",
        "blue_patch = mpatches.Patch(color='green', label='Masculino')\n",
        "plt.legend(handles=[red_patch, blue_patch])"
      ],
      "execution_count": 127,
      "outputs": [
        {
          "output_type": "execute_result",
          "data": {
            "text/plain": [
              "<matplotlib.legend.Legend at 0x7f36360cff10>"
            ]
          },
          "metadata": {
            "tags": []
          },
          "execution_count": 127
        },
        {
          "output_type": "display_data",
          "data": {
            "image/png": "[encoded data removed]",
            "text/plain": [
              "<Figure size 432x288 with 1 Axes>"
            ]
          },
          "metadata": {
            "tags": [],
            "needs_background": "light"
          }
        }
      ]
    },
    {
      "cell_type": "code",
      "metadata": {
        "colab": {
          "base_uri": "https://localhost:8080/",
          "height": 310
        },
        "id": "ocRbswMXqs_L",
        "outputId": "f238ebe8-c238-4878-c772-c5fffa5d4e31"
      },
      "source": [
        "admissoes = dados205.groupby('sexo').size().sort_values().plot(kind='bar', color=['yellow', 'green'], title=\"Admissões por Sexo em Maio/2020\", legend=True)\n",
        "\n",
        "red_patch = mpatches.Patch(color='yellow', label='Feminino')\n",
        "blue_patch = mpatches.Patch(color='green', label='Masculino')\n",
        "plt.legend(handles=[red_patch, blue_patch])"
      ],
      "execution_count": 128,
      "outputs": [
        {
          "output_type": "execute_result",
          "data": {
            "text/plain": [
              "<matplotlib.legend.Legend at 0x7f363605f490>"
            ]
          },
          "metadata": {
            "tags": []
          },
          "execution_count": 128
        },
        {
          "output_type": "display_data",
          "data": {
            "image/png": "[encoded data removed]",
            "text/plain": [
              "<Figure size 432x288 with 1 Axes>"
            ]
          },
          "metadata": {
            "tags": [],
            "needs_background": "light"
          }
        }
      ]
    },
    {
      "cell_type": "code",
      "metadata": {
        "colab": {
          "base_uri": "https://localhost:8080/",
          "height": 310
        },
        "id": "NP8erKI5qtHN",
        "outputId": "ebe1fc30-401e-4307-814c-c8e1b13d2435"
      },
      "source": [
        "admissoes = dados206.groupby('sexo').size().sort_values().plot(kind='bar', color=['yellow', 'green'], title=\"Admissões por Sexo em Jun/2020\", legend=True)\n",
        "\n",
        "red_patch = mpatches.Patch(color='yellow', label='Feminino')\n",
        "blue_patch = mpatches.Patch(color='green', label='Masculino')\n",
        "plt.legend(handles=[red_patch, blue_patch])"
      ],
      "execution_count": 129,
      "outputs": [
        {
          "output_type": "execute_result",
          "data": {
            "text/plain": [
              "<matplotlib.legend.Legend at 0x7f3635fd2250>"
            ]
          },
          "metadata": {
            "tags": []
          },
          "execution_count": 129
        },
        {
          "output_type": "display_data",
          "data": {
            "image/png": "[encoded data removed]",
            "text/plain": [
              "<Figure size 432x288 with 1 Axes>"
            ]
          },
          "metadata": {
            "tags": [],
            "needs_background": "light"
          }
        }
      ]
    },
    {
      "cell_type": "code",
      "metadata": {
        "colab": {
          "base_uri": "https://localhost:8080/",
          "height": 310
        },
        "id": "C81vQcIIqtL8",
        "outputId": "eea13732-4ec1-4d67-9123-900a5beff9a6"
      },
      "source": [
        "admissoes = dados207.groupby('sexo').size().sort_values().plot(kind='bar', color=['yellow', 'green'], title=\"Admissões por Sexo em Jul/2020\", legend=True)\n",
        "\n",
        "red_patch = mpatches.Patch(color='yellow', label='Feminino')\n",
        "blue_patch = mpatches.Patch(color='green', label='Masculino')\n",
        "plt.legend(handles=[red_patch, blue_patch])"
      ],
      "execution_count": 130,
      "outputs": [
        {
          "output_type": "execute_result",
          "data": {
            "text/plain": [
              "<matplotlib.legend.Legend at 0x7f3635fc6850>"
            ]
          },
          "metadata": {
            "tags": []
          },
          "execution_count": 130
        },
        {
          "output_type": "display_data",
          "data": {
            "image/png": "[encoded data removed]",
            "text/plain": [
              "<Figure size 432x288 with 1 Axes>"
            ]
          },
          "metadata": {
            "tags": [],
            "needs_background": "light"
          }
        }
      ]
    },
    {
      "cell_type": "code",
      "metadata": {
        "colab": {
          "base_uri": "https://localhost:8080/",
          "height": 310
        },
        "id": "zlOrKiNiqtO9",
        "outputId": "5c85ef2f-f072-42b6-f6f4-3854975766d2"
      },
      "source": [
        "admissoes = dados208.groupby('sexo').size().sort_values().plot(kind='bar', color=['yellow', 'green'], title=\"Admissões por Sexo em Ago/2020\", legend=True)\n",
        "\n",
        "red_patch = mpatches.Patch(color='yellow', label='Feminino')\n",
        "blue_patch = mpatches.Patch(color='green', label='Masculino')\n",
        "plt.legend(handles=[red_patch, blue_patch])"
      ],
      "execution_count": 131,
      "outputs": [
        {
          "output_type": "execute_result",
          "data": {
            "text/plain": [
              "<matplotlib.legend.Legend at 0x7f3635f6ad50>"
            ]
          },
          "metadata": {
            "tags": []
          },
          "execution_count": 131
        },
        {
          "output_type": "display_data",
          "data": {
            "image/png": "[encoded data removed]",
            "text/plain": [
              "<Figure size 432x288 with 1 Axes>"
            ]
          },
          "metadata": {
            "tags": [],
            "needs_background": "light"
          }
        }
      ]
    },
    {
      "cell_type": "code",
      "metadata": {
        "colab": {
          "base_uri": "https://localhost:8080/",
          "height": 310
        },
        "id": "e1OzmpTgrK0H",
        "outputId": "4c4011f0-9d27-4ab7-aaa2-8fa590b66867"
      },
      "source": [
        "admissoes = dados209.groupby('sexo').size().sort_values().plot(kind='bar', color=['yellow', 'green'], title=\"Admissões por Sexo em Set/2020\", legend=True)\n",
        "\n",
        "red_patch = mpatches.Patch(color='yellow', label='Feminino')\n",
        "blue_patch = mpatches.Patch(color='green', label='Masculino')\n",
        "plt.legend(handles=[red_patch, blue_patch])"
      ],
      "execution_count": 132,
      "outputs": [
        {
          "output_type": "execute_result",
          "data": {
            "text/plain": [
              "<matplotlib.legend.Legend at 0x7f3635ea3a50>"
            ]
          },
          "metadata": {
            "tags": []
          },
          "execution_count": 132
        },
        {
          "output_type": "display_data",
          "data": {
            "image/png": "[encoded data removed]",
            "text/plain": [
              "<Figure size 432x288 with 1 Axes>"
            ]
          },
          "metadata": {
            "tags": [],
            "needs_background": "light"
          }
        }
      ]
    },
    {
      "cell_type": "code",
      "metadata": {
        "colab": {
          "base_uri": "https://localhost:8080/",
          "height": 310
        },
        "id": "oFlZQbG7rIK9",
        "outputId": "1f119819-de38-4614-a3a3-8d356ac9d93f"
      },
      "source": [
        "admissoes = dados2010.groupby('sexo').size().sort_values().plot(kind='bar', color=['yellow', 'green'], title=\"Admissões por Sexo em Out/2020\", legend=True)\n",
        "\n",
        "red_patch = mpatches.Patch(color='yellow', label='Feminino')\n",
        "blue_patch = mpatches.Patch(color='green', label='Masculino')\n",
        "plt.legend(handles=[red_patch, blue_patch])"
      ],
      "execution_count": 133,
      "outputs": [
        {
          "output_type": "execute_result",
          "data": {
            "text/plain": [
              "<matplotlib.legend.Legend at 0x7f3635e30410>"
            ]
          },
          "metadata": {
            "tags": []
          },
          "execution_count": 133
        },
        {
          "output_type": "display_data",
          "data": {
            "image/png": "[encoded data removed]",
            "text/plain": [
              "<Figure size 432x288 with 1 Axes>"
            ]
          },
          "metadata": {
            "tags": [],
            "needs_background": "light"
          }
        }
      ]
    },
    {
      "cell_type": "code",
      "metadata": {
        "colab": {
          "base_uri": "https://localhost:8080/",
          "height": 310
        },
        "id": "6uGydnrUrISj",
        "outputId": "ed859ffc-bea2-4634-c2d7-307f993ea02f"
      },
      "source": [
        "admissoes = dados2011.groupby('sexo').size().sort_values().plot(kind='bar', color=['yellow', 'green'], title=\"Admissões por Sexo em Nov/2020\", legend=True)\n",
        "\n",
        "red_patch = mpatches.Patch(color='yellow', label='Feminino')\n",
        "blue_patch = mpatches.Patch(color='green', label='Masculino')\n",
        "plt.legend(handles=[red_patch, blue_patch])"
      ],
      "execution_count": 134,
      "outputs": [
        {
          "output_type": "execute_result",
          "data": {
            "text/plain": [
              "<matplotlib.legend.Legend at 0x7f3635dad310>"
            ]
          },
          "metadata": {
            "tags": []
          },
          "execution_count": 134
        },
        {
          "output_type": "display_data",
          "data": {
            "image/png": "[encoded data removed]",
            "text/plain": [
              "<Figure size 432x288 with 1 Axes>"
            ]
          },
          "metadata": {
            "tags": [],
            "needs_background": "light"
          }
        }
      ]
    },
    {
      "cell_type": "code",
      "metadata": {
        "colab": {
          "base_uri": "https://localhost:8080/",
          "height": 310
        },
        "id": "4dU1fjLfrI0z",
        "outputId": "8a3303a5-31b5-4704-a45b-cdb10c89c288"
      },
      "source": [
        "admissoes = dados2012.groupby('sexo').size().sort_values().plot(kind='bar', color=['yellow', 'green'], title=\"Admissões por Sexo em Dez/2020\", legend=True)\n",
        "\n",
        "red_patch = mpatches.Patch(color='yellow', label='Feminino')\n",
        "blue_patch = mpatches.Patch(color='green', label='Masculino')\n",
        "plt.legend(handles=[red_patch, blue_patch])"
      ],
      "execution_count": 135,
      "outputs": [
        {
          "output_type": "execute_result",
          "data": {
            "text/plain": [
              "<matplotlib.legend.Legend at 0x7f3635d20690>"
            ]
          },
          "metadata": {
            "tags": []
          },
          "execution_count": 135
        },
        {
          "output_type": "display_data",
          "data": {
            "image/png": "[encoded data removed]",
            "text/plain": [
              "<Figure size 432x288 with 1 Axes>"
            ]
          },
          "metadata": {
            "tags": [],
            "needs_background": "light"
          }
        }
      ]
    },
    {
      "cell_type": "code",
      "metadata": {
        "colab": {
          "base_uri": "https://localhost:8080/"
        },
        "id": "C6P7UkV1xbaO",
        "outputId": "f5ce6aaa-a862-407f-af19-2a7f7d79aaa9"
      },
      "source": [
        "from glob import glob\n",
        "\n",
        "files = sorted(glob('/content/drive/MyDrive/Colab Notebooks/caged_data/CAGEDMOV2020*.txt'))\n",
        "files"
      ],
      "execution_count": 29,
      "outputs": [
        {
          "output_type": "execute_result",
          "data": {
            "text/plain": [
              "['/content/drive/MyDrive/Colab Notebooks/caged_data/CAGEDMOV202001.txt',\n",
              " '/content/drive/MyDrive/Colab Notebooks/caged_data/CAGEDMOV202002.txt',\n",
              " '/content/drive/MyDrive/Colab Notebooks/caged_data/CAGEDMOV202003.txt',\n",
              " '/content/drive/MyDrive/Colab Notebooks/caged_data/CAGEDMOV202004.txt',\n",
              " '/content/drive/MyDrive/Colab Notebooks/caged_data/CAGEDMOV202005.txt',\n",
              " '/content/drive/MyDrive/Colab Notebooks/caged_data/CAGEDMOV202006.txt',\n",
              " '/content/drive/MyDrive/Colab Notebooks/caged_data/CAGEDMOV202007.txt',\n",
              " '/content/drive/MyDrive/Colab Notebooks/caged_data/CAGEDMOV202008.txt',\n",
              " '/content/drive/MyDrive/Colab Notebooks/caged_data/CAGEDMOV202009.txt',\n",
              " '/content/drive/MyDrive/Colab Notebooks/caged_data/CAGEDMOV202010.txt',\n",
              " '/content/drive/MyDrive/Colab Notebooks/caged_data/CAGEDMOV202011.txt',\n",
              " '/content/drive/MyDrive/Colab Notebooks/caged_data/CAGEDMOV202012.txt']"
            ]
          },
          "metadata": {
            "tags": []
          },
          "execution_count": 29
        }
      ]
    },
    {
      "cell_type": "code",
      "metadata": {
        "id": "WjITN5n71J4I"
      },
      "source": [
        "import pandas as pd\n",
        "dados = pd.concat((pd.read_csv(file ,sep=';', usecols=[8, 10, 13, 16]) for file in files ), axis=1)"
      ],
      "execution_count": 30,
      "outputs": []
    },
    {
      "cell_type": "code",
      "metadata": {
        "colab": {
          "base_uri": "https://localhost:8080/",
          "height": 439
        },
        "id": "r0YSFq4c3lz_",
        "outputId": "8d433004-311a-4d11-f6c6-5325ede34a57"
      },
      "source": [
        "dados.fillna(0)"
      ],
      "execution_count": 31,
      "outputs": [
        {
          "output_type": "execute_result",
          "data": {
            "text/html": [
              "<div>\n",
              "<style scoped>\n",
              "    .dataframe tbody tr th:only-of-type {\n",
              "        vertical-align: middle;\n",
              "    }\n",
              "\n",
              "    .dataframe tbody tr th {\n",
              "        vertical-align: top;\n",
              "    }\n",
              "\n",
              "    .dataframe thead th {\n",
              "        text-align: right;\n",
              "    }\n",
              "</style>\n",
              "<table border=\"1\" class=\"dataframe\">\n",
              "  <thead>\n",
              "    <tr style=\"text-align: right;\">\n",
              "      <th></th>\n",
              "      <th>categoria</th>\n",
              "      <th>idade</th>\n",
              "      <th>sexo</th>\n",
              "      <th>tipomovimentação</th>\n",
              "      <th>categoria</th>\n",
              "      <th>idade</th>\n",
              "      <th>sexo</th>\n",
              "      <th>tipomovimentação</th>\n",
              "      <th>categoria</th>\n",
              "      <th>idade</th>\n",
              "      <th>sexo</th>\n",
              "      <th>tipomovimentação</th>\n",
              "      <th>categoria</th>\n",
              "      <th>idade</th>\n",
              "      <th>sexo</th>\n",
              "      <th>tipomovimentação</th>\n",
              "      <th>categoria</th>\n",
              "      <th>idade</th>\n",
              "      <th>sexo</th>\n",
              "      <th>tipomovimentação</th>\n",
              "      <th>categoria</th>\n",
              "      <th>idade</th>\n",
              "      <th>sexo</th>\n",
              "      <th>tipomovimentação</th>\n",
              "      <th>categoria</th>\n",
              "      <th>idade</th>\n",
              "      <th>sexo</th>\n",
              "      <th>tipomovimentação</th>\n",
              "      <th>categoria</th>\n",
              "      <th>idade</th>\n",
              "      <th>sexo</th>\n",
              "      <th>tipomovimentação</th>\n",
              "      <th>categoria</th>\n",
              "      <th>idade</th>\n",
              "      <th>sexo</th>\n",
              "      <th>tipomovimentação</th>\n",
              "      <th>categoria</th>\n",
              "      <th>idade</th>\n",
              "      <th>sexo</th>\n",
              "      <th>tipomovimentação</th>\n",
              "      <th>categoria</th>\n",
              "      <th>idade</th>\n",
              "      <th>sexo</th>\n",
              "      <th>tipomovimentação</th>\n",
              "      <th>categoria</th>\n",
              "      <th>idade</th>\n",
              "      <th>sexo</th>\n",
              "      <th>tipomovimentação</th>\n",
              "    </tr>\n",
              "  </thead>\n",
              "  <tbody>\n",
              "    <tr>\n",
              "      <th>0</th>\n",
              "      <td>101.0</td>\n",
              "      <td>52.0</td>\n",
              "      <td>1.0</td>\n",
              "      <td>31.0</td>\n",
              "      <td>101.0</td>\n",
              "      <td>35.0</td>\n",
              "      <td>3.0</td>\n",
              "      <td>20.0</td>\n",
              "      <td>101</td>\n",
              "      <td>64.0</td>\n",
              "      <td>1</td>\n",
              "      <td>31</td>\n",
              "      <td>999.0</td>\n",
              "      <td>24.0</td>\n",
              "      <td>3.0</td>\n",
              "      <td>20.0</td>\n",
              "      <td>101.0</td>\n",
              "      <td>65.0</td>\n",
              "      <td>1.0</td>\n",
              "      <td>60.0</td>\n",
              "      <td>101.0</td>\n",
              "      <td>43.0</td>\n",
              "      <td>1.0</td>\n",
              "      <td>31.0</td>\n",
              "      <td>999.0</td>\n",
              "      <td>61.0</td>\n",
              "      <td>3.0</td>\n",
              "      <td>40.0</td>\n",
              "      <td>101.0</td>\n",
              "      <td>32.0</td>\n",
              "      <td>1.0</td>\n",
              "      <td>20.0</td>\n",
              "      <td>101.0</td>\n",
              "      <td>39.0</td>\n",
              "      <td>1.0</td>\n",
              "      <td>31.0</td>\n",
              "      <td>101.0</td>\n",
              "      <td>53.0</td>\n",
              "      <td>1.0</td>\n",
              "      <td>90.0</td>\n",
              "      <td>101.0</td>\n",
              "      <td>32.0</td>\n",
              "      <td>1.0</td>\n",
              "      <td>31.0</td>\n",
              "      <td>101.0</td>\n",
              "      <td>37.0</td>\n",
              "      <td>3.0</td>\n",
              "      <td>20.0</td>\n",
              "    </tr>\n",
              "    <tr>\n",
              "      <th>1</th>\n",
              "      <td>101.0</td>\n",
              "      <td>25.0</td>\n",
              "      <td>3.0</td>\n",
              "      <td>20.0</td>\n",
              "      <td>101.0</td>\n",
              "      <td>37.0</td>\n",
              "      <td>1.0</td>\n",
              "      <td>20.0</td>\n",
              "      <td>101</td>\n",
              "      <td>52.0</td>\n",
              "      <td>3</td>\n",
              "      <td>31</td>\n",
              "      <td>101.0</td>\n",
              "      <td>22.0</td>\n",
              "      <td>1.0</td>\n",
              "      <td>31.0</td>\n",
              "      <td>106.0</td>\n",
              "      <td>37.0</td>\n",
              "      <td>3.0</td>\n",
              "      <td>20.0</td>\n",
              "      <td>101.0</td>\n",
              "      <td>37.0</td>\n",
              "      <td>1.0</td>\n",
              "      <td>40.0</td>\n",
              "      <td>101.0</td>\n",
              "      <td>20.0</td>\n",
              "      <td>1.0</td>\n",
              "      <td>31.0</td>\n",
              "      <td>101.0</td>\n",
              "      <td>22.0</td>\n",
              "      <td>1.0</td>\n",
              "      <td>10.0</td>\n",
              "      <td>101.0</td>\n",
              "      <td>37.0</td>\n",
              "      <td>3.0</td>\n",
              "      <td>20.0</td>\n",
              "      <td>101.0</td>\n",
              "      <td>54.0</td>\n",
              "      <td>1.0</td>\n",
              "      <td>20.0</td>\n",
              "      <td>101.0</td>\n",
              "      <td>20.0</td>\n",
              "      <td>1.0</td>\n",
              "      <td>31.0</td>\n",
              "      <td>106.0</td>\n",
              "      <td>23.0</td>\n",
              "      <td>3.0</td>\n",
              "      <td>43.0</td>\n",
              "    </tr>\n",
              "    <tr>\n",
              "      <th>2</th>\n",
              "      <td>101.0</td>\n",
              "      <td>55.0</td>\n",
              "      <td>3.0</td>\n",
              "      <td>20.0</td>\n",
              "      <td>101.0</td>\n",
              "      <td>28.0</td>\n",
              "      <td>1.0</td>\n",
              "      <td>90.0</td>\n",
              "      <td>999</td>\n",
              "      <td>32.0</td>\n",
              "      <td>3</td>\n",
              "      <td>20</td>\n",
              "      <td>101.0</td>\n",
              "      <td>19.0</td>\n",
              "      <td>1.0</td>\n",
              "      <td>43.0</td>\n",
              "      <td>101.0</td>\n",
              "      <td>29.0</td>\n",
              "      <td>3.0</td>\n",
              "      <td>20.0</td>\n",
              "      <td>101.0</td>\n",
              "      <td>34.0</td>\n",
              "      <td>1.0</td>\n",
              "      <td>10.0</td>\n",
              "      <td>101.0</td>\n",
              "      <td>42.0</td>\n",
              "      <td>1.0</td>\n",
              "      <td>20.0</td>\n",
              "      <td>101.0</td>\n",
              "      <td>39.0</td>\n",
              "      <td>1.0</td>\n",
              "      <td>20.0</td>\n",
              "      <td>101.0</td>\n",
              "      <td>35.0</td>\n",
              "      <td>1.0</td>\n",
              "      <td>31.0</td>\n",
              "      <td>101.0</td>\n",
              "      <td>44.0</td>\n",
              "      <td>1.0</td>\n",
              "      <td>20.0</td>\n",
              "      <td>101.0</td>\n",
              "      <td>45.0</td>\n",
              "      <td>3.0</td>\n",
              "      <td>20.0</td>\n",
              "      <td>101.0</td>\n",
              "      <td>17.0</td>\n",
              "      <td>3.0</td>\n",
              "      <td>43.0</td>\n",
              "    </tr>\n",
              "    <tr>\n",
              "      <th>3</th>\n",
              "      <td>101.0</td>\n",
              "      <td>52.0</td>\n",
              "      <td>1.0</td>\n",
              "      <td>10.0</td>\n",
              "      <td>999.0</td>\n",
              "      <td>24.0</td>\n",
              "      <td>1.0</td>\n",
              "      <td>31.0</td>\n",
              "      <td>999</td>\n",
              "      <td>40.0</td>\n",
              "      <td>1</td>\n",
              "      <td>20</td>\n",
              "      <td>101.0</td>\n",
              "      <td>22.0</td>\n",
              "      <td>1.0</td>\n",
              "      <td>31.0</td>\n",
              "      <td>101.0</td>\n",
              "      <td>28.0</td>\n",
              "      <td>3.0</td>\n",
              "      <td>31.0</td>\n",
              "      <td>101.0</td>\n",
              "      <td>37.0</td>\n",
              "      <td>3.0</td>\n",
              "      <td>31.0</td>\n",
              "      <td>103.0</td>\n",
              "      <td>14.0</td>\n",
              "      <td>1.0</td>\n",
              "      <td>43.0</td>\n",
              "      <td>101.0</td>\n",
              "      <td>20.0</td>\n",
              "      <td>3.0</td>\n",
              "      <td>20.0</td>\n",
              "      <td>101.0</td>\n",
              "      <td>58.0</td>\n",
              "      <td>1.0</td>\n",
              "      <td>20.0</td>\n",
              "      <td>101.0</td>\n",
              "      <td>25.0</td>\n",
              "      <td>1.0</td>\n",
              "      <td>20.0</td>\n",
              "      <td>101.0</td>\n",
              "      <td>35.0</td>\n",
              "      <td>1.0</td>\n",
              "      <td>31.0</td>\n",
              "      <td>101.0</td>\n",
              "      <td>31.0</td>\n",
              "      <td>3.0</td>\n",
              "      <td>31.0</td>\n",
              "    </tr>\n",
              "    <tr>\n",
              "      <th>4</th>\n",
              "      <td>101.0</td>\n",
              "      <td>16.0</td>\n",
              "      <td>1.0</td>\n",
              "      <td>20.0</td>\n",
              "      <td>101.0</td>\n",
              "      <td>40.0</td>\n",
              "      <td>3.0</td>\n",
              "      <td>40.0</td>\n",
              "      <td>101</td>\n",
              "      <td>29.0</td>\n",
              "      <td>3</td>\n",
              "      <td>20</td>\n",
              "      <td>101.0</td>\n",
              "      <td>56.0</td>\n",
              "      <td>1.0</td>\n",
              "      <td>31.0</td>\n",
              "      <td>106.0</td>\n",
              "      <td>25.0</td>\n",
              "      <td>3.0</td>\n",
              "      <td>43.0</td>\n",
              "      <td>999.0</td>\n",
              "      <td>28.0</td>\n",
              "      <td>3.0</td>\n",
              "      <td>31.0</td>\n",
              "      <td>101.0</td>\n",
              "      <td>29.0</td>\n",
              "      <td>3.0</td>\n",
              "      <td>20.0</td>\n",
              "      <td>101.0</td>\n",
              "      <td>42.0</td>\n",
              "      <td>1.0</td>\n",
              "      <td>20.0</td>\n",
              "      <td>103.0</td>\n",
              "      <td>17.0</td>\n",
              "      <td>1.0</td>\n",
              "      <td>43.0</td>\n",
              "      <td>106.0</td>\n",
              "      <td>21.0</td>\n",
              "      <td>1.0</td>\n",
              "      <td>43.0</td>\n",
              "      <td>101.0</td>\n",
              "      <td>20.0</td>\n",
              "      <td>1.0</td>\n",
              "      <td>20.0</td>\n",
              "      <td>101.0</td>\n",
              "      <td>23.0</td>\n",
              "      <td>1.0</td>\n",
              "      <td>40.0</td>\n",
              "    </tr>\n",
              "    <tr>\n",
              "      <th>...</th>\n",
              "      <td>...</td>\n",
              "      <td>...</td>\n",
              "      <td>...</td>\n",
              "      <td>...</td>\n",
              "      <td>...</td>\n",
              "      <td>...</td>\n",
              "      <td>...</td>\n",
              "      <td>...</td>\n",
              "      <td>...</td>\n",
              "      <td>...</td>\n",
              "      <td>...</td>\n",
              "      <td>...</td>\n",
              "      <td>...</td>\n",
              "      <td>...</td>\n",
              "      <td>...</td>\n",
              "      <td>...</td>\n",
              "      <td>...</td>\n",
              "      <td>...</td>\n",
              "      <td>...</td>\n",
              "      <td>...</td>\n",
              "      <td>...</td>\n",
              "      <td>...</td>\n",
              "      <td>...</td>\n",
              "      <td>...</td>\n",
              "      <td>...</td>\n",
              "      <td>...</td>\n",
              "      <td>...</td>\n",
              "      <td>...</td>\n",
              "      <td>...</td>\n",
              "      <td>...</td>\n",
              "      <td>...</td>\n",
              "      <td>...</td>\n",
              "      <td>...</td>\n",
              "      <td>...</td>\n",
              "      <td>...</td>\n",
              "      <td>...</td>\n",
              "      <td>...</td>\n",
              "      <td>...</td>\n",
              "      <td>...</td>\n",
              "      <td>...</td>\n",
              "      <td>...</td>\n",
              "      <td>...</td>\n",
              "      <td>...</td>\n",
              "      <td>...</td>\n",
              "      <td>...</td>\n",
              "      <td>...</td>\n",
              "      <td>...</td>\n",
              "      <td>...</td>\n",
              "    </tr>\n",
              "    <tr>\n",
              "      <th>3172717</th>\n",
              "      <td>0.0</td>\n",
              "      <td>0.0</td>\n",
              "      <td>0.0</td>\n",
              "      <td>0.0</td>\n",
              "      <td>0.0</td>\n",
              "      <td>0.0</td>\n",
              "      <td>0.0</td>\n",
              "      <td>0.0</td>\n",
              "      <td>101</td>\n",
              "      <td>41.0</td>\n",
              "      <td>3</td>\n",
              "      <td>31</td>\n",
              "      <td>0.0</td>\n",
              "      <td>0.0</td>\n",
              "      <td>0.0</td>\n",
              "      <td>0.0</td>\n",
              "      <td>0.0</td>\n",
              "      <td>0.0</td>\n",
              "      <td>0.0</td>\n",
              "      <td>0.0</td>\n",
              "      <td>0.0</td>\n",
              "      <td>0.0</td>\n",
              "      <td>0.0</td>\n",
              "      <td>0.0</td>\n",
              "      <td>0.0</td>\n",
              "      <td>0.0</td>\n",
              "      <td>0.0</td>\n",
              "      <td>0.0</td>\n",
              "      <td>0.0</td>\n",
              "      <td>0.0</td>\n",
              "      <td>0.0</td>\n",
              "      <td>0.0</td>\n",
              "      <td>0.0</td>\n",
              "      <td>0.0</td>\n",
              "      <td>0.0</td>\n",
              "      <td>0.0</td>\n",
              "      <td>0.0</td>\n",
              "      <td>0.0</td>\n",
              "      <td>0.0</td>\n",
              "      <td>0.0</td>\n",
              "      <td>0.0</td>\n",
              "      <td>0.0</td>\n",
              "      <td>0.0</td>\n",
              "      <td>0.0</td>\n",
              "      <td>0.0</td>\n",
              "      <td>0.0</td>\n",
              "      <td>0.0</td>\n",
              "      <td>0.0</td>\n",
              "    </tr>\n",
              "    <tr>\n",
              "      <th>3172718</th>\n",
              "      <td>0.0</td>\n",
              "      <td>0.0</td>\n",
              "      <td>0.0</td>\n",
              "      <td>0.0</td>\n",
              "      <td>0.0</td>\n",
              "      <td>0.0</td>\n",
              "      <td>0.0</td>\n",
              "      <td>0.0</td>\n",
              "      <td>101</td>\n",
              "      <td>42.0</td>\n",
              "      <td>3</td>\n",
              "      <td>31</td>\n",
              "      <td>0.0</td>\n",
              "      <td>0.0</td>\n",
              "      <td>0.0</td>\n",
              "      <td>0.0</td>\n",
              "      <td>0.0</td>\n",
              "      <td>0.0</td>\n",
              "      <td>0.0</td>\n",
              "      <td>0.0</td>\n",
              "      <td>0.0</td>\n",
              "      <td>0.0</td>\n",
              "      <td>0.0</td>\n",
              "      <td>0.0</td>\n",
              "      <td>0.0</td>\n",
              "      <td>0.0</td>\n",
              "      <td>0.0</td>\n",
              "      <td>0.0</td>\n",
              "      <td>0.0</td>\n",
              "      <td>0.0</td>\n",
              "      <td>0.0</td>\n",
              "      <td>0.0</td>\n",
              "      <td>0.0</td>\n",
              "      <td>0.0</td>\n",
              "      <td>0.0</td>\n",
              "      <td>0.0</td>\n",
              "      <td>0.0</td>\n",
              "      <td>0.0</td>\n",
              "      <td>0.0</td>\n",
              "      <td>0.0</td>\n",
              "      <td>0.0</td>\n",
              "      <td>0.0</td>\n",
              "      <td>0.0</td>\n",
              "      <td>0.0</td>\n",
              "      <td>0.0</td>\n",
              "      <td>0.0</td>\n",
              "      <td>0.0</td>\n",
              "      <td>0.0</td>\n",
              "    </tr>\n",
              "    <tr>\n",
              "      <th>3172719</th>\n",
              "      <td>0.0</td>\n",
              "      <td>0.0</td>\n",
              "      <td>0.0</td>\n",
              "      <td>0.0</td>\n",
              "      <td>0.0</td>\n",
              "      <td>0.0</td>\n",
              "      <td>0.0</td>\n",
              "      <td>0.0</td>\n",
              "      <td>106</td>\n",
              "      <td>56.0</td>\n",
              "      <td>1</td>\n",
              "      <td>43</td>\n",
              "      <td>0.0</td>\n",
              "      <td>0.0</td>\n",
              "      <td>0.0</td>\n",
              "      <td>0.0</td>\n",
              "      <td>0.0</td>\n",
              "      <td>0.0</td>\n",
              "      <td>0.0</td>\n",
              "      <td>0.0</td>\n",
              "      <td>0.0</td>\n",
              "      <td>0.0</td>\n",
              "      <td>0.0</td>\n",
              "      <td>0.0</td>\n",
              "      <td>0.0</td>\n",
              "      <td>0.0</td>\n",
              "      <td>0.0</td>\n",
              "      <td>0.0</td>\n",
              "      <td>0.0</td>\n",
              "      <td>0.0</td>\n",
              "      <td>0.0</td>\n",
              "      <td>0.0</td>\n",
              "      <td>0.0</td>\n",
              "      <td>0.0</td>\n",
              "      <td>0.0</td>\n",
              "      <td>0.0</td>\n",
              "      <td>0.0</td>\n",
              "      <td>0.0</td>\n",
              "      <td>0.0</td>\n",
              "      <td>0.0</td>\n",
              "      <td>0.0</td>\n",
              "      <td>0.0</td>\n",
              "      <td>0.0</td>\n",
              "      <td>0.0</td>\n",
              "      <td>0.0</td>\n",
              "      <td>0.0</td>\n",
              "      <td>0.0</td>\n",
              "      <td>0.0</td>\n",
              "    </tr>\n",
              "    <tr>\n",
              "      <th>3172720</th>\n",
              "      <td>0.0</td>\n",
              "      <td>0.0</td>\n",
              "      <td>0.0</td>\n",
              "      <td>0.0</td>\n",
              "      <td>0.0</td>\n",
              "      <td>0.0</td>\n",
              "      <td>0.0</td>\n",
              "      <td>0.0</td>\n",
              "      <td>101</td>\n",
              "      <td>25.0</td>\n",
              "      <td>3</td>\n",
              "      <td>31</td>\n",
              "      <td>0.0</td>\n",
              "      <td>0.0</td>\n",
              "      <td>0.0</td>\n",
              "      <td>0.0</td>\n",
              "      <td>0.0</td>\n",
              "      <td>0.0</td>\n",
              "      <td>0.0</td>\n",
              "      <td>0.0</td>\n",
              "      <td>0.0</td>\n",
              "      <td>0.0</td>\n",
              "      <td>0.0</td>\n",
              "      <td>0.0</td>\n",
              "      <td>0.0</td>\n",
              "      <td>0.0</td>\n",
              "      <td>0.0</td>\n",
              "      <td>0.0</td>\n",
              "      <td>0.0</td>\n",
              "      <td>0.0</td>\n",
              "      <td>0.0</td>\n",
              "      <td>0.0</td>\n",
              "      <td>0.0</td>\n",
              "      <td>0.0</td>\n",
              "      <td>0.0</td>\n",
              "      <td>0.0</td>\n",
              "      <td>0.0</td>\n",
              "      <td>0.0</td>\n",
              "      <td>0.0</td>\n",
              "      <td>0.0</td>\n",
              "      <td>0.0</td>\n",
              "      <td>0.0</td>\n",
              "      <td>0.0</td>\n",
              "      <td>0.0</td>\n",
              "      <td>0.0</td>\n",
              "      <td>0.0</td>\n",
              "      <td>0.0</td>\n",
              "      <td>0.0</td>\n",
              "    </tr>\n",
              "    <tr>\n",
              "      <th>3172721</th>\n",
              "      <td>0.0</td>\n",
              "      <td>0.0</td>\n",
              "      <td>0.0</td>\n",
              "      <td>0.0</td>\n",
              "      <td>0.0</td>\n",
              "      <td>0.0</td>\n",
              "      <td>0.0</td>\n",
              "      <td>0.0</td>\n",
              "      <td>101</td>\n",
              "      <td>57.0</td>\n",
              "      <td>3</td>\n",
              "      <td>20</td>\n",
              "      <td>0.0</td>\n",
              "      <td>0.0</td>\n",
              "      <td>0.0</td>\n",
              "      <td>0.0</td>\n",
              "      <td>0.0</td>\n",
              "      <td>0.0</td>\n",
              "      <td>0.0</td>\n",
              "      <td>0.0</td>\n",
              "      <td>0.0</td>\n",
              "      <td>0.0</td>\n",
              "      <td>0.0</td>\n",
              "      <td>0.0</td>\n",
              "      <td>0.0</td>\n",
              "      <td>0.0</td>\n",
              "      <td>0.0</td>\n",
              "      <td>0.0</td>\n",
              "      <td>0.0</td>\n",
              "      <td>0.0</td>\n",
              "      <td>0.0</td>\n",
              "      <td>0.0</td>\n",
              "      <td>0.0</td>\n",
              "      <td>0.0</td>\n",
              "      <td>0.0</td>\n",
              "      <td>0.0</td>\n",
              "      <td>0.0</td>\n",
              "      <td>0.0</td>\n",
              "      <td>0.0</td>\n",
              "      <td>0.0</td>\n",
              "      <td>0.0</td>\n",
              "      <td>0.0</td>\n",
              "      <td>0.0</td>\n",
              "      <td>0.0</td>\n",
              "      <td>0.0</td>\n",
              "      <td>0.0</td>\n",
              "      <td>0.0</td>\n",
              "      <td>0.0</td>\n",
              "    </tr>\n",
              "  </tbody>\n",
              "</table>\n",
              "<p>3172722 rows × 48 columns</p>\n",
              "</div>"
            ],
            "text/plain": [
              "         categoria  idade  sexo  ...  idade  sexo  tipomovimentação\n",
              "0            101.0   52.0   1.0  ...   37.0   3.0              20.0\n",
              "1            101.0   25.0   3.0  ...   23.0   3.0              43.0\n",
              "2            101.0   55.0   3.0  ...   17.0   3.0              43.0\n",
              "3            101.0   52.0   1.0  ...   31.0   3.0              31.0\n",
              "4            101.0   16.0   1.0  ...   23.0   1.0              40.0\n",
              "...            ...    ...   ...  ...    ...   ...               ...\n",
              "3172717        0.0    0.0   0.0  ...    0.0   0.0               0.0\n",
              "3172718        0.0    0.0   0.0  ...    0.0   0.0               0.0\n",
              "3172719        0.0    0.0   0.0  ...    0.0   0.0               0.0\n",
              "3172720        0.0    0.0   0.0  ...    0.0   0.0               0.0\n",
              "3172721        0.0    0.0   0.0  ...    0.0   0.0               0.0\n",
              "\n",
              "[3172722 rows x 48 columns]"
            ]
          },
          "metadata": {
            "tags": []
          },
          "execution_count": 31
        }
      ]
    },
    {
      "cell_type": "code",
      "metadata": {
        "colab": {
          "base_uri": "https://localhost:8080/"
        },
        "id": "BrzvHxVk5u8w",
        "outputId": "cab6cf78-6258-4bd7-beb3-8af882f9046a"
      },
      "source": [
        "dados.index"
      ],
      "execution_count": 32,
      "outputs": [
        {
          "output_type": "execute_result",
          "data": {
            "text/plain": [
              "RangeIndex(start=0, stop=3172722, step=1)"
            ]
          },
          "metadata": {
            "tags": []
          },
          "execution_count": 32
        }
      ]
    },
    {
      "cell_type": "code",
      "metadata": {
        "colab": {
          "base_uri": "https://localhost:8080/"
        },
        "id": "11b6Be2E5y0_",
        "outputId": "8aa0830a-f49e-48ac-fecf-f69f71a404ab"
      },
      "source": [
        "dados.columns"
      ],
      "execution_count": 33,
      "outputs": [
        {
          "output_type": "execute_result",
          "data": {
            "text/plain": [
              "Index(['categoria', 'idade', 'sexo', 'tipomovimentação', 'categoria', 'idade',\n",
              "       'sexo', 'tipomovimentação', 'categoria', 'idade', 'sexo',\n",
              "       'tipomovimentação', 'categoria', 'idade', 'sexo', 'tipomovimentação',\n",
              "       'categoria', 'idade', 'sexo', 'tipomovimentação', 'categoria', 'idade',\n",
              "       'sexo', 'tipomovimentação', 'categoria', 'idade', 'sexo',\n",
              "       'tipomovimentação', 'categoria', 'idade', 'sexo', 'tipomovimentação',\n",
              "       'categoria', 'idade', 'sexo', 'tipomovimentação', 'categoria', 'idade',\n",
              "       'sexo', 'tipomovimentação', 'categoria', 'idade', 'sexo',\n",
              "       'tipomovimentação', 'categoria', 'idade', 'sexo', 'tipomovimentação'],\n",
              "      dtype='object')"
            ]
          },
          "metadata": {
            "tags": []
          },
          "execution_count": 33
        }
      ]
    },
    {
      "cell_type": "code",
      "metadata": {
        "colab": {
          "base_uri": "https://localhost:8080/",
          "height": 317
        },
        "id": "D2fLmPeD52Yw",
        "outputId": "15eb4484-7384-4e2f-86eb-9d448d988df3"
      },
      "source": [
        "dados.describe()"
      ],
      "execution_count": 34,
      "outputs": [
        {
          "output_type": "execute_result",
          "data": {
            "text/html": [
              "<div>\n",
              "<style scoped>\n",
              "    .dataframe tbody tr th:only-of-type {\n",
              "        vertical-align: middle;\n",
              "    }\n",
              "\n",
              "    .dataframe tbody tr th {\n",
              "        vertical-align: top;\n",
              "    }\n",
              "\n",
              "    .dataframe thead th {\n",
              "        text-align: right;\n",
              "    }\n",
              "</style>\n",
              "<table border=\"1\" class=\"dataframe\">\n",
              "  <thead>\n",
              "    <tr style=\"text-align: right;\">\n",
              "      <th></th>\n",
              "      <th>categoria</th>\n",
              "      <th>idade</th>\n",
              "      <th>sexo</th>\n",
              "      <th>tipomovimentação</th>\n",
              "      <th>categoria</th>\n",
              "      <th>idade</th>\n",
              "      <th>sexo</th>\n",
              "      <th>tipomovimentação</th>\n",
              "      <th>categoria</th>\n",
              "      <th>idade</th>\n",
              "      <th>sexo</th>\n",
              "      <th>tipomovimentação</th>\n",
              "      <th>categoria</th>\n",
              "      <th>idade</th>\n",
              "      <th>sexo</th>\n",
              "      <th>tipomovimentação</th>\n",
              "      <th>categoria</th>\n",
              "      <th>idade</th>\n",
              "      <th>sexo</th>\n",
              "      <th>tipomovimentação</th>\n",
              "      <th>categoria</th>\n",
              "      <th>idade</th>\n",
              "      <th>sexo</th>\n",
              "      <th>tipomovimentação</th>\n",
              "      <th>categoria</th>\n",
              "      <th>idade</th>\n",
              "      <th>sexo</th>\n",
              "      <th>tipomovimentação</th>\n",
              "      <th>categoria</th>\n",
              "      <th>idade</th>\n",
              "      <th>sexo</th>\n",
              "      <th>tipomovimentação</th>\n",
              "      <th>categoria</th>\n",
              "      <th>idade</th>\n",
              "      <th>sexo</th>\n",
              "      <th>tipomovimentação</th>\n",
              "      <th>categoria</th>\n",
              "      <th>idade</th>\n",
              "      <th>sexo</th>\n",
              "      <th>tipomovimentação</th>\n",
              "      <th>categoria</th>\n",
              "      <th>idade</th>\n",
              "      <th>sexo</th>\n",
              "      <th>tipomovimentação</th>\n",
              "      <th>categoria</th>\n",
              "      <th>idade</th>\n",
              "      <th>sexo</th>\n",
              "      <th>tipomovimentação</th>\n",
              "    </tr>\n",
              "  </thead>\n",
              "  <tbody>\n",
              "    <tr>\n",
              "      <th>count</th>\n",
              "      <td>2.890763e+06</td>\n",
              "      <td>2.890753e+06</td>\n",
              "      <td>2.890763e+06</td>\n",
              "      <td>2.890763e+06</td>\n",
              "      <td>2.985661e+06</td>\n",
              "      <td>2.985648e+06</td>\n",
              "      <td>2.985661e+06</td>\n",
              "      <td>2.985661e+06</td>\n",
              "      <td>3.172722e+06</td>\n",
              "      <td>3.172710e+06</td>\n",
              "      <td>3.172722e+06</td>\n",
              "      <td>3.172722e+06</td>\n",
              "      <td>2.251887e+06</td>\n",
              "      <td>2.251882e+06</td>\n",
              "      <td>2.251887e+06</td>\n",
              "      <td>2.251887e+06</td>\n",
              "      <td>1.867253e+06</td>\n",
              "      <td>1.867251e+06</td>\n",
              "      <td>1.867253e+06</td>\n",
              "      <td>1.867253e+06</td>\n",
              "      <td>1.914231e+06</td>\n",
              "      <td>1.914228e+06</td>\n",
              "      <td>1.914231e+06</td>\n",
              "      <td>1.914231e+06</td>\n",
              "      <td>2.159751e+06</td>\n",
              "      <td>2.159749e+06</td>\n",
              "      <td>2.159751e+06</td>\n",
              "      <td>2.159751e+06</td>\n",
              "      <td>2.335252e+06</td>\n",
              "      <td>2.335244e+06</td>\n",
              "      <td>2.335252e+06</td>\n",
              "      <td>2.335252e+06</td>\n",
              "      <td>2.544644e+06</td>\n",
              "      <td>2.544637e+06</td>\n",
              "      <td>2.544644e+06</td>\n",
              "      <td>2.544644e+06</td>\n",
              "      <td>2.789381e+06</td>\n",
              "      <td>2.789377e+06</td>\n",
              "      <td>2.789381e+06</td>\n",
              "      <td>2.789381e+06</td>\n",
              "      <td>2.731741e+06</td>\n",
              "      <td>2.731733e+06</td>\n",
              "      <td>2.731741e+06</td>\n",
              "      <td>2.731741e+06</td>\n",
              "      <td>2.546466e+06</td>\n",
              "      <td>2.546462e+06</td>\n",
              "      <td>2.546466e+06</td>\n",
              "      <td>2.546466e+06</td>\n",
              "    </tr>\n",
              "    <tr>\n",
              "      <th>mean</th>\n",
              "      <td>2.233483e+02</td>\n",
              "      <td>3.221136e+01</td>\n",
              "      <td>1.797589e+00</td>\n",
              "      <td>2.766612e+01</td>\n",
              "      <td>2.038544e+02</td>\n",
              "      <td>3.222258e+01</td>\n",
              "      <td>1.805793e+00</td>\n",
              "      <td>2.735190e+01</td>\n",
              "      <td>1.902189e+02</td>\n",
              "      <td>3.232248e+01</td>\n",
              "      <td>1.797112e+00</td>\n",
              "      <td>2.842931e+01</td>\n",
              "      <td>1.770693e+02</td>\n",
              "      <td>3.350921e+01</td>\n",
              "      <td>1.780912e+00</td>\n",
              "      <td>3.025897e+01</td>\n",
              "      <td>1.671242e+02</td>\n",
              "      <td>3.365677e+01</td>\n",
              "      <td>1.734210e+00</td>\n",
              "      <td>2.873677e+01</td>\n",
              "      <td>1.615043e+02</td>\n",
              "      <td>3.306848e+01</td>\n",
              "      <td>1.714854e+00</td>\n",
              "      <td>2.769180e+01</td>\n",
              "      <td>1.583132e+02</td>\n",
              "      <td>3.250195e+01</td>\n",
              "      <td>1.707454e+00</td>\n",
              "      <td>2.731620e+01</td>\n",
              "      <td>1.524682e+02</td>\n",
              "      <td>3.204905e+01</td>\n",
              "      <td>1.719181e+00</td>\n",
              "      <td>2.717989e+01</td>\n",
              "      <td>1.505318e+02</td>\n",
              "      <td>3.163113e+01</td>\n",
              "      <td>1.726516e+00</td>\n",
              "      <td>2.709705e+01</td>\n",
              "      <td>1.478335e+02</td>\n",
              "      <td>3.137389e+01</td>\n",
              "      <td>1.754334e+00</td>\n",
              "      <td>2.704852e+01</td>\n",
              "      <td>1.428460e+02</td>\n",
              "      <td>3.110707e+01</td>\n",
              "      <td>1.770522e+00</td>\n",
              "      <td>2.707420e+01</td>\n",
              "      <td>1.444854e+02</td>\n",
              "      <td>3.105629e+01</td>\n",
              "      <td>1.821554e+00</td>\n",
              "      <td>2.876309e+01</td>\n",
              "    </tr>\n",
              "    <tr>\n",
              "      <th>std</th>\n",
              "      <td>3.075762e+02</td>\n",
              "      <td>1.082022e+01</td>\n",
              "      <td>9.793009e-01</td>\n",
              "      <td>1.107878e+01</td>\n",
              "      <td>2.854471e+02</td>\n",
              "      <td>1.085257e+01</td>\n",
              "      <td>9.809607e-01</td>\n",
              "      <td>1.119695e+01</td>\n",
              "      <td>2.680058e+02</td>\n",
              "      <td>1.083969e+01</td>\n",
              "      <td>9.792022e-01</td>\n",
              "      <td>1.094974e+01</td>\n",
              "      <td>2.494101e+02</td>\n",
              "      <td>1.114642e+01</td>\n",
              "      <td>9.757054e-01</td>\n",
              "      <td>9.630131e+00</td>\n",
              "      <td>2.338002e+02</td>\n",
              "      <td>1.132673e+01</td>\n",
              "      <td>9.640312e-01</td>\n",
              "      <td>1.011657e+01</td>\n",
              "      <td>2.242920e+02</td>\n",
              "      <td>1.112565e+01</td>\n",
              "      <td>9.584844e-01</td>\n",
              "      <td>1.042219e+01</td>\n",
              "      <td>2.186363e+02</td>\n",
              "      <td>1.092210e+01</td>\n",
              "      <td>9.562516e-01</td>\n",
              "      <td>1.064634e+01</td>\n",
              "      <td>2.078343e+02</td>\n",
              "      <td>1.078939e+01</td>\n",
              "      <td>9.597611e-01</td>\n",
              "      <td>1.086106e+01</td>\n",
              "      <td>2.040844e+02</td>\n",
              "      <td>1.074200e+01</td>\n",
              "      <td>9.618767e-01</td>\n",
              "      <td>1.097078e+01</td>\n",
              "      <td>1.986530e+02</td>\n",
              "      <td>1.065658e+01</td>\n",
              "      <td>9.693546e-01</td>\n",
              "      <td>1.109604e+01</td>\n",
              "      <td>1.881238e+02</td>\n",
              "      <td>1.067267e+01</td>\n",
              "      <td>9.733140e-01</td>\n",
              "      <td>1.115463e+01</td>\n",
              "      <td>1.913886e+02</td>\n",
              "      <td>1.077985e+01</td>\n",
              "      <td>9.839499e-01</td>\n",
              "      <td>1.151554e+01</td>\n",
              "    </tr>\n",
              "    <tr>\n",
              "      <th>min</th>\n",
              "      <td>1.010000e+02</td>\n",
              "      <td>1.400000e+01</td>\n",
              "      <td>1.000000e+00</td>\n",
              "      <td>1.000000e+01</td>\n",
              "      <td>1.010000e+02</td>\n",
              "      <td>1.400000e+01</td>\n",
              "      <td>1.000000e+00</td>\n",
              "      <td>1.000000e+01</td>\n",
              "      <td>1.010000e+02</td>\n",
              "      <td>1.400000e+01</td>\n",
              "      <td>1.000000e+00</td>\n",
              "      <td>1.000000e+01</td>\n",
              "      <td>1.010000e+02</td>\n",
              "      <td>1.400000e+01</td>\n",
              "      <td>1.000000e+00</td>\n",
              "      <td>1.000000e+01</td>\n",
              "      <td>1.010000e+02</td>\n",
              "      <td>1.400000e+01</td>\n",
              "      <td>1.000000e+00</td>\n",
              "      <td>1.000000e+01</td>\n",
              "      <td>1.010000e+02</td>\n",
              "      <td>1.400000e+01</td>\n",
              "      <td>1.000000e+00</td>\n",
              "      <td>1.000000e+01</td>\n",
              "      <td>1.010000e+02</td>\n",
              "      <td>1.400000e+01</td>\n",
              "      <td>1.000000e+00</td>\n",
              "      <td>1.000000e+01</td>\n",
              "      <td>1.010000e+02</td>\n",
              "      <td>1.400000e+01</td>\n",
              "      <td>1.000000e+00</td>\n",
              "      <td>1.000000e+01</td>\n",
              "      <td>1.010000e+02</td>\n",
              "      <td>1.400000e+01</td>\n",
              "      <td>1.000000e+00</td>\n",
              "      <td>1.000000e+01</td>\n",
              "      <td>1.010000e+02</td>\n",
              "      <td>1.400000e+01</td>\n",
              "      <td>1.000000e+00</td>\n",
              "      <td>1.000000e+01</td>\n",
              "      <td>1.010000e+02</td>\n",
              "      <td>1.400000e+01</td>\n",
              "      <td>1.000000e+00</td>\n",
              "      <td>1.000000e+01</td>\n",
              "      <td>1.010000e+02</td>\n",
              "      <td>1.400000e+01</td>\n",
              "      <td>1.000000e+00</td>\n",
              "      <td>1.000000e+01</td>\n",
              "    </tr>\n",
              "    <tr>\n",
              "      <th>25%</th>\n",
              "      <td>1.010000e+02</td>\n",
              "      <td>2.300000e+01</td>\n",
              "      <td>1.000000e+00</td>\n",
              "      <td>2.000000e+01</td>\n",
              "      <td>1.010000e+02</td>\n",
              "      <td>2.300000e+01</td>\n",
              "      <td>1.000000e+00</td>\n",
              "      <td>2.000000e+01</td>\n",
              "      <td>1.010000e+02</td>\n",
              "      <td>2.400000e+01</td>\n",
              "      <td>1.000000e+00</td>\n",
              "      <td>2.000000e+01</td>\n",
              "      <td>1.010000e+02</td>\n",
              "      <td>2.400000e+01</td>\n",
              "      <td>1.000000e+00</td>\n",
              "      <td>2.000000e+01</td>\n",
              "      <td>1.010000e+02</td>\n",
              "      <td>2.500000e+01</td>\n",
              "      <td>1.000000e+00</td>\n",
              "      <td>2.000000e+01</td>\n",
              "      <td>1.010000e+02</td>\n",
              "      <td>2.400000e+01</td>\n",
              "      <td>1.000000e+00</td>\n",
              "      <td>2.000000e+01</td>\n",
              "      <td>1.010000e+02</td>\n",
              "      <td>2.400000e+01</td>\n",
              "      <td>1.000000e+00</td>\n",
              "      <td>2.000000e+01</td>\n",
              "      <td>1.010000e+02</td>\n",
              "      <td>2.300000e+01</td>\n",
              "      <td>1.000000e+00</td>\n",
              "      <td>2.000000e+01</td>\n",
              "      <td>1.010000e+02</td>\n",
              "      <td>2.300000e+01</td>\n",
              "      <td>1.000000e+00</td>\n",
              "      <td>2.000000e+01</td>\n",
              "      <td>1.010000e+02</td>\n",
              "      <td>2.300000e+01</td>\n",
              "      <td>1.000000e+00</td>\n",
              "      <td>2.000000e+01</td>\n",
              "      <td>1.010000e+02</td>\n",
              "      <td>2.200000e+01</td>\n",
              "      <td>1.000000e+00</td>\n",
              "      <td>2.000000e+01</td>\n",
              "      <td>1.010000e+02</td>\n",
              "      <td>2.200000e+01</td>\n",
              "      <td>1.000000e+00</td>\n",
              "      <td>2.000000e+01</td>\n",
              "    </tr>\n",
              "    <tr>\n",
              "      <th>50%</th>\n",
              "      <td>1.010000e+02</td>\n",
              "      <td>3.000000e+01</td>\n",
              "      <td>1.000000e+00</td>\n",
              "      <td>2.000000e+01</td>\n",
              "      <td>1.010000e+02</td>\n",
              "      <td>3.000000e+01</td>\n",
              "      <td>1.000000e+00</td>\n",
              "      <td>2.000000e+01</td>\n",
              "      <td>1.010000e+02</td>\n",
              "      <td>3.000000e+01</td>\n",
              "      <td>1.000000e+00</td>\n",
              "      <td>3.100000e+01</td>\n",
              "      <td>1.010000e+02</td>\n",
              "      <td>3.200000e+01</td>\n",
              "      <td>1.000000e+00</td>\n",
              "      <td>3.100000e+01</td>\n",
              "      <td>1.010000e+02</td>\n",
              "      <td>3.200000e+01</td>\n",
              "      <td>1.000000e+00</td>\n",
              "      <td>3.100000e+01</td>\n",
              "      <td>1.010000e+02</td>\n",
              "      <td>3.100000e+01</td>\n",
              "      <td>1.000000e+00</td>\n",
              "      <td>3.100000e+01</td>\n",
              "      <td>1.010000e+02</td>\n",
              "      <td>3.100000e+01</td>\n",
              "      <td>1.000000e+00</td>\n",
              "      <td>2.000000e+01</td>\n",
              "      <td>1.010000e+02</td>\n",
              "      <td>3.000000e+01</td>\n",
              "      <td>1.000000e+00</td>\n",
              "      <td>2.000000e+01</td>\n",
              "      <td>1.010000e+02</td>\n",
              "      <td>3.000000e+01</td>\n",
              "      <td>1.000000e+00</td>\n",
              "      <td>2.000000e+01</td>\n",
              "      <td>1.010000e+02</td>\n",
              "      <td>2.900000e+01</td>\n",
              "      <td>1.000000e+00</td>\n",
              "      <td>2.000000e+01</td>\n",
              "      <td>1.010000e+02</td>\n",
              "      <td>2.900000e+01</td>\n",
              "      <td>1.000000e+00</td>\n",
              "      <td>2.000000e+01</td>\n",
              "      <td>1.010000e+02</td>\n",
              "      <td>2.900000e+01</td>\n",
              "      <td>1.000000e+00</td>\n",
              "      <td>3.100000e+01</td>\n",
              "    </tr>\n",
              "    <tr>\n",
              "      <th>75%</th>\n",
              "      <td>1.010000e+02</td>\n",
              "      <td>3.900000e+01</td>\n",
              "      <td>3.000000e+00</td>\n",
              "      <td>3.100000e+01</td>\n",
              "      <td>1.010000e+02</td>\n",
              "      <td>3.900000e+01</td>\n",
              "      <td>3.000000e+00</td>\n",
              "      <td>3.100000e+01</td>\n",
              "      <td>1.010000e+02</td>\n",
              "      <td>3.900000e+01</td>\n",
              "      <td>3.000000e+00</td>\n",
              "      <td>3.100000e+01</td>\n",
              "      <td>1.010000e+02</td>\n",
              "      <td>4.100000e+01</td>\n",
              "      <td>3.000000e+00</td>\n",
              "      <td>3.100000e+01</td>\n",
              "      <td>1.010000e+02</td>\n",
              "      <td>4.100000e+01</td>\n",
              "      <td>3.000000e+00</td>\n",
              "      <td>3.100000e+01</td>\n",
              "      <td>1.010000e+02</td>\n",
              "      <td>4.000000e+01</td>\n",
              "      <td>3.000000e+00</td>\n",
              "      <td>3.100000e+01</td>\n",
              "      <td>1.010000e+02</td>\n",
              "      <td>3.900000e+01</td>\n",
              "      <td>3.000000e+00</td>\n",
              "      <td>3.100000e+01</td>\n",
              "      <td>1.010000e+02</td>\n",
              "      <td>3.900000e+01</td>\n",
              "      <td>3.000000e+00</td>\n",
              "      <td>3.100000e+01</td>\n",
              "      <td>1.010000e+02</td>\n",
              "      <td>3.800000e+01</td>\n",
              "      <td>3.000000e+00</td>\n",
              "      <td>3.100000e+01</td>\n",
              "      <td>1.010000e+02</td>\n",
              "      <td>3.800000e+01</td>\n",
              "      <td>3.000000e+00</td>\n",
              "      <td>3.100000e+01</td>\n",
              "      <td>1.010000e+02</td>\n",
              "      <td>3.800000e+01</td>\n",
              "      <td>3.000000e+00</td>\n",
              "      <td>3.100000e+01</td>\n",
              "      <td>1.010000e+02</td>\n",
              "      <td>3.800000e+01</td>\n",
              "      <td>3.000000e+00</td>\n",
              "      <td>4.000000e+01</td>\n",
              "    </tr>\n",
              "    <tr>\n",
              "      <th>max</th>\n",
              "      <td>9.990000e+02</td>\n",
              "      <td>1.000000e+02</td>\n",
              "      <td>3.000000e+00</td>\n",
              "      <td>9.900000e+01</td>\n",
              "      <td>9.990000e+02</td>\n",
              "      <td>9.900000e+01</td>\n",
              "      <td>3.000000e+00</td>\n",
              "      <td>9.900000e+01</td>\n",
              "      <td>9.990000e+02</td>\n",
              "      <td>9.700000e+01</td>\n",
              "      <td>3.000000e+00</td>\n",
              "      <td>9.900000e+01</td>\n",
              "      <td>9.990000e+02</td>\n",
              "      <td>9.700000e+01</td>\n",
              "      <td>3.000000e+00</td>\n",
              "      <td>9.900000e+01</td>\n",
              "      <td>9.990000e+02</td>\n",
              "      <td>1.000000e+02</td>\n",
              "      <td>3.000000e+00</td>\n",
              "      <td>9.900000e+01</td>\n",
              "      <td>9.990000e+02</td>\n",
              "      <td>9.700000e+01</td>\n",
              "      <td>3.000000e+00</td>\n",
              "      <td>9.900000e+01</td>\n",
              "      <td>9.990000e+02</td>\n",
              "      <td>9.500000e+01</td>\n",
              "      <td>3.000000e+00</td>\n",
              "      <td>9.900000e+01</td>\n",
              "      <td>9.990000e+02</td>\n",
              "      <td>1.000000e+02</td>\n",
              "      <td>3.000000e+00</td>\n",
              "      <td>9.900000e+01</td>\n",
              "      <td>9.990000e+02</td>\n",
              "      <td>9.400000e+01</td>\n",
              "      <td>3.000000e+00</td>\n",
              "      <td>9.900000e+01</td>\n",
              "      <td>9.990000e+02</td>\n",
              "      <td>9.800000e+01</td>\n",
              "      <td>3.000000e+00</td>\n",
              "      <td>9.900000e+01</td>\n",
              "      <td>9.990000e+02</td>\n",
              "      <td>9.800000e+01</td>\n",
              "      <td>3.000000e+00</td>\n",
              "      <td>9.900000e+01</td>\n",
              "      <td>9.990000e+02</td>\n",
              "      <td>9.900000e+01</td>\n",
              "      <td>3.000000e+00</td>\n",
              "      <td>9.900000e+01</td>\n",
              "    </tr>\n",
              "  </tbody>\n",
              "</table>\n",
              "</div>"
            ],
            "text/plain": [
              "          categoria         idade  ...          sexo  tipomovimentação\n",
              "count  2.890763e+06  2.890753e+06  ...  2.546466e+06      2.546466e+06\n",
              "mean   2.233483e+02  3.221136e+01  ...  1.821554e+00      2.876309e+01\n",
              "std    3.075762e+02  1.082022e+01  ...  9.839499e-01      1.151554e+01\n",
              "min    1.010000e+02  1.400000e+01  ...  1.000000e+00      1.000000e+01\n",
              "25%    1.010000e+02  2.300000e+01  ...  1.000000e+00      2.000000e+01\n",
              "50%    1.010000e+02  3.000000e+01  ...  1.000000e+00      3.100000e+01\n",
              "75%    1.010000e+02  3.900000e+01  ...  3.000000e+00      4.000000e+01\n",
              "max    9.990000e+02  1.000000e+02  ...  3.000000e+00      9.900000e+01\n",
              "\n",
              "[8 rows x 48 columns]"
            ]
          },
          "metadata": {
            "tags": []
          },
          "execution_count": 34
        }
      ]
    },
    {
      "cell_type": "code",
      "metadata": {
        "colab": {
          "base_uri": "https://localhost:8080/",
          "height": 379
        },
        "id": "umxFD4SV9VKy",
        "outputId": "f8c14b91-3ee0-406a-9ed7-e716f2ad9684"
      },
      "source": [
        "dados.head(10)"
      ],
      "execution_count": 36,
      "outputs": [
        {
          "output_type": "execute_result",
          "data": {
            "text/html": [
              "<div>\n",
              "<style scoped>\n",
              "    .dataframe tbody tr th:only-of-type {\n",
              "        vertical-align: middle;\n",
              "    }\n",
              "\n",
              "    .dataframe tbody tr th {\n",
              "        vertical-align: top;\n",
              "    }\n",
              "\n",
              "    .dataframe thead th {\n",
              "        text-align: right;\n",
              "    }\n",
              "</style>\n",
              "<table border=\"1\" class=\"dataframe\">\n",
              "  <thead>\n",
              "    <tr style=\"text-align: right;\">\n",
              "      <th></th>\n",
              "      <th>categoria</th>\n",
              "      <th>idade</th>\n",
              "      <th>sexo</th>\n",
              "      <th>tipomovimentação</th>\n",
              "      <th>categoria</th>\n",
              "      <th>idade</th>\n",
              "      <th>sexo</th>\n",
              "      <th>tipomovimentação</th>\n",
              "      <th>categoria</th>\n",
              "      <th>idade</th>\n",
              "      <th>sexo</th>\n",
              "      <th>tipomovimentação</th>\n",
              "      <th>categoria</th>\n",
              "      <th>idade</th>\n",
              "      <th>sexo</th>\n",
              "      <th>tipomovimentação</th>\n",
              "      <th>categoria</th>\n",
              "      <th>idade</th>\n",
              "      <th>sexo</th>\n",
              "      <th>tipomovimentação</th>\n",
              "      <th>categoria</th>\n",
              "      <th>idade</th>\n",
              "      <th>sexo</th>\n",
              "      <th>tipomovimentação</th>\n",
              "      <th>categoria</th>\n",
              "      <th>idade</th>\n",
              "      <th>sexo</th>\n",
              "      <th>tipomovimentação</th>\n",
              "      <th>categoria</th>\n",
              "      <th>idade</th>\n",
              "      <th>sexo</th>\n",
              "      <th>tipomovimentação</th>\n",
              "      <th>categoria</th>\n",
              "      <th>idade</th>\n",
              "      <th>sexo</th>\n",
              "      <th>tipomovimentação</th>\n",
              "      <th>categoria</th>\n",
              "      <th>idade</th>\n",
              "      <th>sexo</th>\n",
              "      <th>tipomovimentação</th>\n",
              "      <th>categoria</th>\n",
              "      <th>idade</th>\n",
              "      <th>sexo</th>\n",
              "      <th>tipomovimentação</th>\n",
              "      <th>categoria</th>\n",
              "      <th>idade</th>\n",
              "      <th>sexo</th>\n",
              "      <th>tipomovimentação</th>\n",
              "    </tr>\n",
              "  </thead>\n",
              "  <tbody>\n",
              "    <tr>\n",
              "      <th>0</th>\n",
              "      <td>101.0</td>\n",
              "      <td>52.0</td>\n",
              "      <td>1.0</td>\n",
              "      <td>31.0</td>\n",
              "      <td>101.0</td>\n",
              "      <td>35.0</td>\n",
              "      <td>3.0</td>\n",
              "      <td>20.0</td>\n",
              "      <td>101</td>\n",
              "      <td>64.0</td>\n",
              "      <td>1</td>\n",
              "      <td>31</td>\n",
              "      <td>999.0</td>\n",
              "      <td>24.0</td>\n",
              "      <td>3.0</td>\n",
              "      <td>20.0</td>\n",
              "      <td>101.0</td>\n",
              "      <td>65.0</td>\n",
              "      <td>1.0</td>\n",
              "      <td>60.0</td>\n",
              "      <td>101.0</td>\n",
              "      <td>43.0</td>\n",
              "      <td>1.0</td>\n",
              "      <td>31.0</td>\n",
              "      <td>999.0</td>\n",
              "      <td>61.0</td>\n",
              "      <td>3.0</td>\n",
              "      <td>40.0</td>\n",
              "      <td>101.0</td>\n",
              "      <td>32.0</td>\n",
              "      <td>1.0</td>\n",
              "      <td>20.0</td>\n",
              "      <td>101.0</td>\n",
              "      <td>39.0</td>\n",
              "      <td>1.0</td>\n",
              "      <td>31.0</td>\n",
              "      <td>101.0</td>\n",
              "      <td>53.0</td>\n",
              "      <td>1.0</td>\n",
              "      <td>90.0</td>\n",
              "      <td>101.0</td>\n",
              "      <td>32.0</td>\n",
              "      <td>1.0</td>\n",
              "      <td>31.0</td>\n",
              "      <td>101.0</td>\n",
              "      <td>37.0</td>\n",
              "      <td>3.0</td>\n",
              "      <td>20.0</td>\n",
              "    </tr>\n",
              "    <tr>\n",
              "      <th>1</th>\n",
              "      <td>101.0</td>\n",
              "      <td>25.0</td>\n",
              "      <td>3.0</td>\n",
              "      <td>20.0</td>\n",
              "      <td>101.0</td>\n",
              "      <td>37.0</td>\n",
              "      <td>1.0</td>\n",
              "      <td>20.0</td>\n",
              "      <td>101</td>\n",
              "      <td>52.0</td>\n",
              "      <td>3</td>\n",
              "      <td>31</td>\n",
              "      <td>101.0</td>\n",
              "      <td>22.0</td>\n",
              "      <td>1.0</td>\n",
              "      <td>31.0</td>\n",
              "      <td>106.0</td>\n",
              "      <td>37.0</td>\n",
              "      <td>3.0</td>\n",
              "      <td>20.0</td>\n",
              "      <td>101.0</td>\n",
              "      <td>37.0</td>\n",
              "      <td>1.0</td>\n",
              "      <td>40.0</td>\n",
              "      <td>101.0</td>\n",
              "      <td>20.0</td>\n",
              "      <td>1.0</td>\n",
              "      <td>31.0</td>\n",
              "      <td>101.0</td>\n",
              "      <td>22.0</td>\n",
              "      <td>1.0</td>\n",
              "      <td>10.0</td>\n",
              "      <td>101.0</td>\n",
              "      <td>37.0</td>\n",
              "      <td>3.0</td>\n",
              "      <td>20.0</td>\n",
              "      <td>101.0</td>\n",
              "      <td>54.0</td>\n",
              "      <td>1.0</td>\n",
              "      <td>20.0</td>\n",
              "      <td>101.0</td>\n",
              "      <td>20.0</td>\n",
              "      <td>1.0</td>\n",
              "      <td>31.0</td>\n",
              "      <td>106.0</td>\n",
              "      <td>23.0</td>\n",
              "      <td>3.0</td>\n",
              "      <td>43.0</td>\n",
              "    </tr>\n",
              "    <tr>\n",
              "      <th>2</th>\n",
              "      <td>101.0</td>\n",
              "      <td>55.0</td>\n",
              "      <td>3.0</td>\n",
              "      <td>20.0</td>\n",
              "      <td>101.0</td>\n",
              "      <td>28.0</td>\n",
              "      <td>1.0</td>\n",
              "      <td>90.0</td>\n",
              "      <td>999</td>\n",
              "      <td>32.0</td>\n",
              "      <td>3</td>\n",
              "      <td>20</td>\n",
              "      <td>101.0</td>\n",
              "      <td>19.0</td>\n",
              "      <td>1.0</td>\n",
              "      <td>43.0</td>\n",
              "      <td>101.0</td>\n",
              "      <td>29.0</td>\n",
              "      <td>3.0</td>\n",
              "      <td>20.0</td>\n",
              "      <td>101.0</td>\n",
              "      <td>34.0</td>\n",
              "      <td>1.0</td>\n",
              "      <td>10.0</td>\n",
              "      <td>101.0</td>\n",
              "      <td>42.0</td>\n",
              "      <td>1.0</td>\n",
              "      <td>20.0</td>\n",
              "      <td>101.0</td>\n",
              "      <td>39.0</td>\n",
              "      <td>1.0</td>\n",
              "      <td>20.0</td>\n",
              "      <td>101.0</td>\n",
              "      <td>35.0</td>\n",
              "      <td>1.0</td>\n",
              "      <td>31.0</td>\n",
              "      <td>101.0</td>\n",
              "      <td>44.0</td>\n",
              "      <td>1.0</td>\n",
              "      <td>20.0</td>\n",
              "      <td>101.0</td>\n",
              "      <td>45.0</td>\n",
              "      <td>3.0</td>\n",
              "      <td>20.0</td>\n",
              "      <td>101.0</td>\n",
              "      <td>17.0</td>\n",
              "      <td>3.0</td>\n",
              "      <td>43.0</td>\n",
              "    </tr>\n",
              "    <tr>\n",
              "      <th>3</th>\n",
              "      <td>101.0</td>\n",
              "      <td>52.0</td>\n",
              "      <td>1.0</td>\n",
              "      <td>10.0</td>\n",
              "      <td>999.0</td>\n",
              "      <td>24.0</td>\n",
              "      <td>1.0</td>\n",
              "      <td>31.0</td>\n",
              "      <td>999</td>\n",
              "      <td>40.0</td>\n",
              "      <td>1</td>\n",
              "      <td>20</td>\n",
              "      <td>101.0</td>\n",
              "      <td>22.0</td>\n",
              "      <td>1.0</td>\n",
              "      <td>31.0</td>\n",
              "      <td>101.0</td>\n",
              "      <td>28.0</td>\n",
              "      <td>3.0</td>\n",
              "      <td>31.0</td>\n",
              "      <td>101.0</td>\n",
              "      <td>37.0</td>\n",
              "      <td>3.0</td>\n",
              "      <td>31.0</td>\n",
              "      <td>103.0</td>\n",
              "      <td>14.0</td>\n",
              "      <td>1.0</td>\n",
              "      <td>43.0</td>\n",
              "      <td>101.0</td>\n",
              "      <td>20.0</td>\n",
              "      <td>3.0</td>\n",
              "      <td>20.0</td>\n",
              "      <td>101.0</td>\n",
              "      <td>58.0</td>\n",
              "      <td>1.0</td>\n",
              "      <td>20.0</td>\n",
              "      <td>101.0</td>\n",
              "      <td>25.0</td>\n",
              "      <td>1.0</td>\n",
              "      <td>20.0</td>\n",
              "      <td>101.0</td>\n",
              "      <td>35.0</td>\n",
              "      <td>1.0</td>\n",
              "      <td>31.0</td>\n",
              "      <td>101.0</td>\n",
              "      <td>31.0</td>\n",
              "      <td>3.0</td>\n",
              "      <td>31.0</td>\n",
              "    </tr>\n",
              "    <tr>\n",
              "      <th>4</th>\n",
              "      <td>101.0</td>\n",
              "      <td>16.0</td>\n",
              "      <td>1.0</td>\n",
              "      <td>20.0</td>\n",
              "      <td>101.0</td>\n",
              "      <td>40.0</td>\n",
              "      <td>3.0</td>\n",
              "      <td>40.0</td>\n",
              "      <td>101</td>\n",
              "      <td>29.0</td>\n",
              "      <td>3</td>\n",
              "      <td>20</td>\n",
              "      <td>101.0</td>\n",
              "      <td>56.0</td>\n",
              "      <td>1.0</td>\n",
              "      <td>31.0</td>\n",
              "      <td>106.0</td>\n",
              "      <td>25.0</td>\n",
              "      <td>3.0</td>\n",
              "      <td>43.0</td>\n",
              "      <td>999.0</td>\n",
              "      <td>28.0</td>\n",
              "      <td>3.0</td>\n",
              "      <td>31.0</td>\n",
              "      <td>101.0</td>\n",
              "      <td>29.0</td>\n",
              "      <td>3.0</td>\n",
              "      <td>20.0</td>\n",
              "      <td>101.0</td>\n",
              "      <td>42.0</td>\n",
              "      <td>1.0</td>\n",
              "      <td>20.0</td>\n",
              "      <td>103.0</td>\n",
              "      <td>17.0</td>\n",
              "      <td>1.0</td>\n",
              "      <td>43.0</td>\n",
              "      <td>106.0</td>\n",
              "      <td>21.0</td>\n",
              "      <td>1.0</td>\n",
              "      <td>43.0</td>\n",
              "      <td>101.0</td>\n",
              "      <td>20.0</td>\n",
              "      <td>1.0</td>\n",
              "      <td>20.0</td>\n",
              "      <td>101.0</td>\n",
              "      <td>23.0</td>\n",
              "      <td>1.0</td>\n",
              "      <td>40.0</td>\n",
              "    </tr>\n",
              "    <tr>\n",
              "      <th>5</th>\n",
              "      <td>999.0</td>\n",
              "      <td>20.0</td>\n",
              "      <td>3.0</td>\n",
              "      <td>20.0</td>\n",
              "      <td>101.0</td>\n",
              "      <td>23.0</td>\n",
              "      <td>1.0</td>\n",
              "      <td>40.0</td>\n",
              "      <td>101</td>\n",
              "      <td>24.0</td>\n",
              "      <td>1</td>\n",
              "      <td>20</td>\n",
              "      <td>101.0</td>\n",
              "      <td>22.0</td>\n",
              "      <td>1.0</td>\n",
              "      <td>31.0</td>\n",
              "      <td>101.0</td>\n",
              "      <td>25.0</td>\n",
              "      <td>3.0</td>\n",
              "      <td>31.0</td>\n",
              "      <td>101.0</td>\n",
              "      <td>24.0</td>\n",
              "      <td>3.0</td>\n",
              "      <td>20.0</td>\n",
              "      <td>999.0</td>\n",
              "      <td>34.0</td>\n",
              "      <td>1.0</td>\n",
              "      <td>25.0</td>\n",
              "      <td>106.0</td>\n",
              "      <td>34.0</td>\n",
              "      <td>1.0</td>\n",
              "      <td>20.0</td>\n",
              "      <td>101.0</td>\n",
              "      <td>21.0</td>\n",
              "      <td>3.0</td>\n",
              "      <td>31.0</td>\n",
              "      <td>101.0</td>\n",
              "      <td>30.0</td>\n",
              "      <td>3.0</td>\n",
              "      <td>40.0</td>\n",
              "      <td>999.0</td>\n",
              "      <td>20.0</td>\n",
              "      <td>3.0</td>\n",
              "      <td>31.0</td>\n",
              "      <td>101.0</td>\n",
              "      <td>20.0</td>\n",
              "      <td>1.0</td>\n",
              "      <td>20.0</td>\n",
              "    </tr>\n",
              "    <tr>\n",
              "      <th>6</th>\n",
              "      <td>101.0</td>\n",
              "      <td>22.0</td>\n",
              "      <td>3.0</td>\n",
              "      <td>20.0</td>\n",
              "      <td>101.0</td>\n",
              "      <td>32.0</td>\n",
              "      <td>1.0</td>\n",
              "      <td>31.0</td>\n",
              "      <td>101</td>\n",
              "      <td>31.0</td>\n",
              "      <td>3</td>\n",
              "      <td>20</td>\n",
              "      <td>101.0</td>\n",
              "      <td>20.0</td>\n",
              "      <td>1.0</td>\n",
              "      <td>31.0</td>\n",
              "      <td>101.0</td>\n",
              "      <td>53.0</td>\n",
              "      <td>1.0</td>\n",
              "      <td>20.0</td>\n",
              "      <td>101.0</td>\n",
              "      <td>34.0</td>\n",
              "      <td>1.0</td>\n",
              "      <td>31.0</td>\n",
              "      <td>101.0</td>\n",
              "      <td>48.0</td>\n",
              "      <td>1.0</td>\n",
              "      <td>20.0</td>\n",
              "      <td>101.0</td>\n",
              "      <td>56.0</td>\n",
              "      <td>1.0</td>\n",
              "      <td>32.0</td>\n",
              "      <td>101.0</td>\n",
              "      <td>20.0</td>\n",
              "      <td>1.0</td>\n",
              "      <td>20.0</td>\n",
              "      <td>101.0</td>\n",
              "      <td>30.0</td>\n",
              "      <td>1.0</td>\n",
              "      <td>20.0</td>\n",
              "      <td>106.0</td>\n",
              "      <td>19.0</td>\n",
              "      <td>1.0</td>\n",
              "      <td>20.0</td>\n",
              "      <td>101.0</td>\n",
              "      <td>20.0</td>\n",
              "      <td>3.0</td>\n",
              "      <td>43.0</td>\n",
              "    </tr>\n",
              "    <tr>\n",
              "      <th>7</th>\n",
              "      <td>101.0</td>\n",
              "      <td>60.0</td>\n",
              "      <td>1.0</td>\n",
              "      <td>31.0</td>\n",
              "      <td>101.0</td>\n",
              "      <td>28.0</td>\n",
              "      <td>1.0</td>\n",
              "      <td>20.0</td>\n",
              "      <td>999</td>\n",
              "      <td>40.0</td>\n",
              "      <td>3</td>\n",
              "      <td>25</td>\n",
              "      <td>101.0</td>\n",
              "      <td>33.0</td>\n",
              "      <td>1.0</td>\n",
              "      <td>20.0</td>\n",
              "      <td>999.0</td>\n",
              "      <td>32.0</td>\n",
              "      <td>1.0</td>\n",
              "      <td>31.0</td>\n",
              "      <td>106.0</td>\n",
              "      <td>27.0</td>\n",
              "      <td>1.0</td>\n",
              "      <td>20.0</td>\n",
              "      <td>101.0</td>\n",
              "      <td>50.0</td>\n",
              "      <td>3.0</td>\n",
              "      <td>31.0</td>\n",
              "      <td>101.0</td>\n",
              "      <td>40.0</td>\n",
              "      <td>1.0</td>\n",
              "      <td>31.0</td>\n",
              "      <td>111.0</td>\n",
              "      <td>25.0</td>\n",
              "      <td>1.0</td>\n",
              "      <td>20.0</td>\n",
              "      <td>101.0</td>\n",
              "      <td>33.0</td>\n",
              "      <td>3.0</td>\n",
              "      <td>40.0</td>\n",
              "      <td>101.0</td>\n",
              "      <td>17.0</td>\n",
              "      <td>1.0</td>\n",
              "      <td>20.0</td>\n",
              "      <td>101.0</td>\n",
              "      <td>32.0</td>\n",
              "      <td>1.0</td>\n",
              "      <td>20.0</td>\n",
              "    </tr>\n",
              "    <tr>\n",
              "      <th>8</th>\n",
              "      <td>101.0</td>\n",
              "      <td>34.0</td>\n",
              "      <td>3.0</td>\n",
              "      <td>31.0</td>\n",
              "      <td>999.0</td>\n",
              "      <td>26.0</td>\n",
              "      <td>3.0</td>\n",
              "      <td>31.0</td>\n",
              "      <td>101</td>\n",
              "      <td>23.0</td>\n",
              "      <td>1</td>\n",
              "      <td>20</td>\n",
              "      <td>101.0</td>\n",
              "      <td>27.0</td>\n",
              "      <td>1.0</td>\n",
              "      <td>20.0</td>\n",
              "      <td>101.0</td>\n",
              "      <td>38.0</td>\n",
              "      <td>3.0</td>\n",
              "      <td>31.0</td>\n",
              "      <td>101.0</td>\n",
              "      <td>24.0</td>\n",
              "      <td>1.0</td>\n",
              "      <td>31.0</td>\n",
              "      <td>101.0</td>\n",
              "      <td>41.0</td>\n",
              "      <td>1.0</td>\n",
              "      <td>40.0</td>\n",
              "      <td>101.0</td>\n",
              "      <td>28.0</td>\n",
              "      <td>3.0</td>\n",
              "      <td>31.0</td>\n",
              "      <td>101.0</td>\n",
              "      <td>32.0</td>\n",
              "      <td>1.0</td>\n",
              "      <td>20.0</td>\n",
              "      <td>101.0</td>\n",
              "      <td>23.0</td>\n",
              "      <td>1.0</td>\n",
              "      <td>31.0</td>\n",
              "      <td>101.0</td>\n",
              "      <td>34.0</td>\n",
              "      <td>1.0</td>\n",
              "      <td>20.0</td>\n",
              "      <td>101.0</td>\n",
              "      <td>26.0</td>\n",
              "      <td>3.0</td>\n",
              "      <td>31.0</td>\n",
              "    </tr>\n",
              "    <tr>\n",
              "      <th>9</th>\n",
              "      <td>101.0</td>\n",
              "      <td>26.0</td>\n",
              "      <td>3.0</td>\n",
              "      <td>31.0</td>\n",
              "      <td>103.0</td>\n",
              "      <td>21.0</td>\n",
              "      <td>1.0</td>\n",
              "      <td>43.0</td>\n",
              "      <td>105</td>\n",
              "      <td>41.0</td>\n",
              "      <td>1</td>\n",
              "      <td>43</td>\n",
              "      <td>101.0</td>\n",
              "      <td>34.0</td>\n",
              "      <td>1.0</td>\n",
              "      <td>31.0</td>\n",
              "      <td>101.0</td>\n",
              "      <td>25.0</td>\n",
              "      <td>1.0</td>\n",
              "      <td>40.0</td>\n",
              "      <td>101.0</td>\n",
              "      <td>31.0</td>\n",
              "      <td>3.0</td>\n",
              "      <td>31.0</td>\n",
              "      <td>999.0</td>\n",
              "      <td>31.0</td>\n",
              "      <td>1.0</td>\n",
              "      <td>31.0</td>\n",
              "      <td>101.0</td>\n",
              "      <td>19.0</td>\n",
              "      <td>3.0</td>\n",
              "      <td>31.0</td>\n",
              "      <td>101.0</td>\n",
              "      <td>26.0</td>\n",
              "      <td>1.0</td>\n",
              "      <td>40.0</td>\n",
              "      <td>101.0</td>\n",
              "      <td>28.0</td>\n",
              "      <td>3.0</td>\n",
              "      <td>20.0</td>\n",
              "      <td>101.0</td>\n",
              "      <td>40.0</td>\n",
              "      <td>1.0</td>\n",
              "      <td>20.0</td>\n",
              "      <td>101.0</td>\n",
              "      <td>48.0</td>\n",
              "      <td>3.0</td>\n",
              "      <td>31.0</td>\n",
              "    </tr>\n",
              "  </tbody>\n",
              "</table>\n",
              "</div>"
            ],
            "text/plain": [
              "   categoria  idade  sexo  ...  idade  sexo  tipomovimentação\n",
              "0      101.0   52.0   1.0  ...   37.0   3.0              20.0\n",
              "1      101.0   25.0   3.0  ...   23.0   3.0              43.0\n",
              "2      101.0   55.0   3.0  ...   17.0   3.0              43.0\n",
              "3      101.0   52.0   1.0  ...   31.0   3.0              31.0\n",
              "4      101.0   16.0   1.0  ...   23.0   1.0              40.0\n",
              "5      999.0   20.0   3.0  ...   20.0   1.0              20.0\n",
              "6      101.0   22.0   3.0  ...   20.0   3.0              43.0\n",
              "7      101.0   60.0   1.0  ...   32.0   1.0              20.0\n",
              "8      101.0   34.0   3.0  ...   26.0   3.0              31.0\n",
              "9      101.0   26.0   3.0  ...   48.0   3.0              31.0\n",
              "\n",
              "[10 rows x 48 columns]"
            ]
          },
          "metadata": {
            "tags": []
          },
          "execution_count": 36
        }
      ]
    }
  ]
}